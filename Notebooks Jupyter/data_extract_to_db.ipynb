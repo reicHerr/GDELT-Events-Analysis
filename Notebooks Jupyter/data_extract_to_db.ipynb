{
 "cells": [
  {
   "cell_type": "markdown",
   "id": "e862bbe0",
   "metadata": {},
   "source": [
    "# Data Extraction To DataBase Structuring\n",
    "Cette section du projet consiste à extraire les données relatives au Bénin depuis la base GDELT, à les transformer, puis à les intégrer dans une base de données relationnelle.\n",
    "Cette structuration permet une consultation rapide et ciblée des événements, la réalisation d’analyses croisées complexes, ainsi que l’intégration avec d'autres outils analytiques, y compris des solutions d’intelligence artificielle."
   ]
  },
  {
   "cell_type": "markdown",
   "id": "ce0050f7",
   "metadata": {},
   "source": [
    "## Data Extraction\n",
    "A cette étape, l’objectif est d’extraire des données spécifiques au Bénin à partir de la base de données GDELT (Global Database of Events, Language, and Tone).\n",
    "La base GDELT recense quotidiennement des événements médiatiques mondiaux décrivant des interactions entre acteurs (pays, groupes, individus), les lieux impliqués, les tonalités médiatiques et le type d’événement.\n",
    "\n",
    "Cette extraction constitue la base de travail pour les étapes suivantes de structuration et d’analyse.\n"
   ]
  },
  {
   "cell_type": "code",
   "execution_count": 1,
   "id": "1e1e375b",
   "metadata": {},
   "outputs": [
    {
     "name": "stdout",
     "output_type": "stream",
     "text": [
      "Defaulting to user installation because normal site-packages is not writeable\n",
      "Requirement already satisfied: google-cloud-bigquery in /home/pionner02/.local/lib/python3.10/site-packages (3.31.0)\n",
      "Requirement already satisfied: google-cloud-bigquery-storage in /home/pionner02/.local/lib/python3.10/site-packages (2.30.0)\n",
      "Requirement already satisfied: pandas in /home/pionner02/.local/lib/python3.10/site-packages (2.2.3)\n",
      "Requirement already satisfied: pyarrow in /home/pionner02/.local/lib/python3.10/site-packages (19.0.1)\n",
      "Requirement already satisfied: db-dtypes in /home/pionner02/.local/lib/python3.10/site-packages (1.4.2)\n",
      "Requirement already satisfied: google-cloud-core<3.0.0,>=2.4.1 in /home/pionner02/.local/lib/python3.10/site-packages (from google-cloud-bigquery) (2.4.3)\n",
      "Requirement already satisfied: packaging>=24.2.0 in /home/pionner02/.local/lib/python3.10/site-packages (from google-cloud-bigquery) (24.2)\n",
      "Requirement already satisfied: google-resumable-media<3.0.0,>=2.0.0 in /home/pionner02/.local/lib/python3.10/site-packages (from google-cloud-bigquery) (2.7.2)\n",
      "Requirement already satisfied: python-dateutil<3.0.0,>=2.8.2 in /home/pionner02/.local/lib/python3.10/site-packages (from google-cloud-bigquery) (2.9.0.post0)\n",
      "Requirement already satisfied: requests<3.0.0,>=2.21.0 in /home/pionner02/.local/lib/python3.10/site-packages (from google-cloud-bigquery) (2.32.3)\n",
      "Requirement already satisfied: google-api-core[grpc]<3.0.0,>=2.11.1 in /home/pionner02/.local/lib/python3.10/site-packages (from google-cloud-bigquery) (2.24.2)\n",
      "Requirement already satisfied: google-auth<3.0.0,>=2.14.1 in /home/pionner02/.local/lib/python3.10/site-packages (from google-cloud-bigquery) (2.38.0)\n",
      "Requirement already satisfied: protobuf!=3.20.0,!=3.20.1,!=4.21.0,!=4.21.1,!=4.21.2,!=4.21.3,!=4.21.4,!=4.21.5,<7.0.0,>=3.20.2 in /home/pionner02/.local/lib/python3.10/site-packages (from google-cloud-bigquery-storage) (5.29.4)\n",
      "Requirement already satisfied: proto-plus<2.0.0,>=1.22.0 in /home/pionner02/.local/lib/python3.10/site-packages (from google-cloud-bigquery-storage) (1.26.1)\n",
      "Requirement already satisfied: numpy>=1.22.4 in /home/pionner02/.local/lib/python3.10/site-packages (from pandas) (2.1.3)\n",
      "Requirement already satisfied: tzdata>=2022.7 in /home/pionner02/.local/lib/python3.10/site-packages (from pandas) (2025.2)\n",
      "Requirement already satisfied: pytz>=2020.1 in /usr/lib/python3/dist-packages (from pandas) (2022.1)\n",
      "Requirement already satisfied: googleapis-common-protos<2.0.0,>=1.56.2 in /home/pionner02/.local/lib/python3.10/site-packages (from google-api-core[grpc]<3.0.0,>=2.11.1->google-cloud-bigquery) (1.69.2)\n",
      "Requirement already satisfied: grpcio-status<2.0.dev0,>=1.33.2 in /home/pionner02/.local/lib/python3.10/site-packages (from google-api-core[grpc]<3.0.0,>=2.11.1->google-cloud-bigquery) (1.71.0)\n",
      "Requirement already satisfied: grpcio<2.0dev,>=1.33.2 in /home/pionner02/.local/lib/python3.10/site-packages (from google-api-core[grpc]<3.0.0,>=2.11.1->google-cloud-bigquery) (1.71.0)\n",
      "Requirement already satisfied: cachetools<6.0,>=2.0.0 in /home/pionner02/.local/lib/python3.10/site-packages (from google-auth<3.0.0,>=2.14.1->google-cloud-bigquery) (5.5.2)\n",
      "Requirement already satisfied: rsa<5,>=3.1.4 in /home/pionner02/.local/lib/python3.10/site-packages (from google-auth<3.0.0,>=2.14.1->google-cloud-bigquery) (4.9)\n",
      "Requirement already satisfied: pyasn1-modules>=0.2.1 in /usr/lib/python3/dist-packages (from google-auth<3.0.0,>=2.14.1->google-cloud-bigquery) (0.2.1)\n",
      "Requirement already satisfied: google-crc32c<2.0dev,>=1.0 in /home/pionner02/.local/lib/python3.10/site-packages (from google-resumable-media<3.0.0,>=2.0.0->google-cloud-bigquery) (1.7.1)\n",
      "Requirement already satisfied: six>=1.5 in /usr/lib/python3/dist-packages (from python-dateutil<3.0.0,>=2.8.2->google-cloud-bigquery) (1.16.0)\n",
      "Requirement already satisfied: charset-normalizer<4,>=2 in /home/pionner02/.local/lib/python3.10/site-packages (from requests<3.0.0,>=2.21.0->google-cloud-bigquery) (3.4.1)\n",
      "Requirement already satisfied: idna<4,>=2.5 in /usr/lib/python3/dist-packages (from requests<3.0.0,>=2.21.0->google-cloud-bigquery) (3.3)\n",
      "Requirement already satisfied: urllib3<3,>=1.21.1 in /usr/lib/python3/dist-packages (from requests<3.0.0,>=2.21.0->google-cloud-bigquery) (1.26.5)\n",
      "Requirement already satisfied: certifi>=2017.4.17 in /usr/lib/python3/dist-packages (from requests<3.0.0,>=2.21.0->google-cloud-bigquery) (2020.6.20)\n",
      "Requirement already satisfied: pyasn1>=0.1.3 in /usr/lib/python3/dist-packages (from rsa<5,>=3.1.4->google-auth<3.0.0,>=2.14.1->google-cloud-bigquery) (0.4.8)\n",
      "Note: you may need to restart the kernel to use updated packages.\n"
     ]
    }
   ],
   "source": [
    "%pip install --upgrade google-cloud-bigquery google-cloud-bigquery-storage pandas pyarrow db-dtypes"
   ]
  },
  {
   "cell_type": "code",
   "execution_count": 6,
   "id": "66ad0bd6",
   "metadata": {
    "notebookRunGroups": {
     "groupValue": "1"
    }
   },
   "outputs": [
    {
     "name": "stderr",
     "output_type": "stream",
     "text": [
      "2025-04-21 22:15:31,936 - INFO - Clé d'authentification chargée dans GOOGLE_APPLICATION_CREDENTIALS : /home/pionner02/Pionner02 UlChris-Project/pionner02-ulchris-457521-key.json\n",
      "2025-04-21 22:15:31,937 - INFO - Aucun identifiant explicite, utilisation des Application Default Credentials\n",
      "2025-04-21 22:15:31,976 - INFO - Client BigQuery initialisé pour le projet pionner02-ulchris-457521\n"
     ]
    }
   ],
   "source": [
    "from functions.initialize_client import initialize_bigquery_client\n",
    "from functions.setup_authentication import setup_authentication\n",
    "\n",
    "# Définir le chemin vers le fichier de clé d'authentification BigQuery\n",
    "bigquery_key_path = \"/home/pionner02/Pionner02 UlChris-Project/pionner02-ulchris-457521-key.json\"\n",
    "auth_env = \"GOOGLE_APPLICATION_CREDENTIALS\"\n",
    "\n",
    "# Définir la variable d'environnement pour authentifier l'accès à Google Cloud avec la clé\n",
    "setup_authentication(bigquery_key_path, auth_env)\n",
    "\n",
    "# Initialisation le client BigQuery en utilisant la clé d'authentification configurée précédemment\n",
    "project_id = \"pionner02-ulchris-457521\"\n",
    "client = initialize_bigquery_client(project_id)"
   ]
  },
  {
   "cell_type": "code",
   "execution_count": 7,
   "id": "0f3535aa",
   "metadata": {
    "notebookRunGroups": {
     "groupValue": "2"
    }
   },
   "outputs": [
    {
     "name": "stdout",
     "output_type": "stream",
     "text": [
      " Les fichiers CSV seront sauvegardés dans : /home/pionner02/Pionner02 UlChris-Project/data/extract_data\n"
     ]
    }
   ],
   "source": [
    "import os\n",
    "\n",
    "# Définir le dossier de destination des fichiers de données CSV\n",
    "output_csv_dir = \"/home/pionner02/Pionner02 UlChris-Project/data/extract_data\"\n",
    "\n",
    "os.makedirs(output_csv_dir, exist_ok=True)  # Créer le dossier si inexistant\n",
    "print(f\" Les fichiers CSV seront sauvegardés dans : {output_csv_dir}\")"
   ]
  },
  {
   "cell_type": "code",
   "execution_count": 9,
   "id": "891d8b14",
   "metadata": {},
   "outputs": [],
   "source": [
    "from functions.extract_table import extract_table\n",
    "\n",
    "# Requêtes SQL BigQuery\n",
    "\n",
    "# Requête sur les événements\n",
    "events_query= \"\"\"\n",
    "SELECT  GLOBALEVENTID, \n",
    "        SQLDATE, \n",
    "        GoldsteinScale,\n",
    "        NumMentions, \n",
    "        NumSources, \n",
    "        NumArticles, \n",
    "        AvgTone,\n",
    "        ActionGeo_FullName,\n",
    "        ActionGeo_Lat,\n",
    "        ActionGeo_Long,\n",
    "        SOURCEURL\n",
    "FROM `gdelt-bq.gdeltv2.events_partitioned`\n",
    "WHERE ActionGeo_CountryCode = 'BN' \n",
    "    OR Actor1Geo_CountryCode = 'BN' \n",
    "    OR Actor2Geo_CountryCode = 'BN' \n",
    "    OR Actor1CountryCode = 'BEN' \n",
    "    OR Actor2CountryCode = 'BEN'\n",
    "    \"\"\"\n",
    "# Requête sur les mentions liées aux événements    \n",
    "mentions_query=\"\"\"\n",
    "SELECT  m.GLOBALEVENTID, \n",
    "        m.MentionTimeDate, \n",
    "        m.MentionType,\n",
    "        m.MentionSourceName,\n",
    "        m.MentionIdentifier,\n",
    "        m.ActionCharOffset,\n",
    "        m.Confidence,\n",
    "        m.MentionDocTone\n",
    "FROM `gdelt-bq.gdeltv2.eventmentions_partitioned` m\n",
    "INNER JOIN `gdelt-bq.gdeltv2.events_partitioned` e\n",
    "        ON m.GLOBALEVENTID = e.GLOBALEVENTID\n",
    "WHERE ActionGeo_CountryCode = 'BN' \n",
    "    OR e.Actor1Geo_CountryCode = 'BN' \n",
    "    OR e.Actor2Geo_CountryCode = 'BN' \n",
    "    OR e.Actor1CountryCode = 'BEN' \n",
    "    OR e.Actor2CountryCode = 'BEN'\n",
    "    \"\"\""
   ]
  },
  {
   "cell_type": "code",
   "execution_count": null,
   "id": "79cd0f80",
   "metadata": {},
   "outputs": [
    {
     "name": "stderr",
     "output_type": "stream",
     "text": [
      "2025-04-21 22:18:27,435 - INFO - Début de l'extraction pour la table 'benin_events'\n"
     ]
    },
    {
     "name": "stdout",
     "output_type": "stream",
     "text": [
      " Extraction en cours pour \n",
      "SELECT  GLOBALEVENTID, \n",
      "        SQLDATE, \n",
      "        GoldsteinScale,\n",
      "        NumMentions, \n",
      "        NumSources, \n",
      "        NumArticles, \n",
      "        AvgTone,\n",
      "        ActionGeo_FullName,\n",
      "        ActionGeo_Lat,\n",
      "        ActionGeo_Long,\n",
      "        SOURCEURL\n",
      "FROM `gdelt-bq.gdeltv2.events_partitioned`\n",
      "WHERE ActionGeo_CountryCode = 'BN' \n",
      "    OR Actor1Geo_CountryCode = 'BN' \n",
      "    OR Actor2Geo_CountryCode = 'BN' \n",
      "    OR Actor1CountryCode = 'BEN' \n",
      "    OR Actor2CountryCode = 'BEN'\n",
      "    \n"
     ]
    },
    {
     "name": "stderr",
     "output_type": "stream",
     "text": [
      "2025-04-21 22:18:36,881 - INFO - Octets facturés : 175557836800\n",
      "2025-04-21 22:18:38,736 - INFO - Les données ont été exportées dans le fichier : benin_events_20250421_221827.csv\n",
      "2025-04-21 22:18:38,737 - INFO - Nombre de lignes dans le fichier : 468642\n",
      "2025-04-21 22:18:38,745 - INFO - Début de l'extraction pour la table 'benin_mentions'\n"
     ]
    },
    {
     "name": "stdout",
     "output_type": "stream",
     "text": [
      " Extraction réussie pour \n",
      "SELECT  GLOBALEVENTID, \n",
      "        SQLDATE, \n",
      "        GoldsteinScale,\n",
      "        NumMentions, \n",
      "        NumSources, \n",
      "        NumArticles, \n",
      "        AvgTone,\n",
      "        ActionGeo_FullName,\n",
      "        ActionGeo_Lat,\n",
      "        ActionGeo_Long,\n",
      "        SOURCEURL\n",
      "FROM `gdelt-bq.gdeltv2.events_partitioned`\n",
      "WHERE ActionGeo_CountryCode = 'BN' \n",
      "    OR Actor1Geo_CountryCode = 'BN' \n",
      "    OR Actor2Geo_CountryCode = 'BN' \n",
      "    OR Actor1CountryCode = 'BEN' \n",
      "    OR Actor2CountryCode = 'BEN'\n",
      "    \n",
      " Extraction en cours pour \n",
      "SELECT  m.GLOBALEVENTID, \n",
      "        m.MentionTimeDate, \n",
      "        m.MentionType,\n",
      "        m.MentionSourceName,\n",
      "        m.MentionIdentifier,\n",
      "        m.ActionCharOffset,\n",
      "        m.Confidence,\n",
      "        m.MentionDocTone\n",
      "FROM `gdelt-bq.gdeltv2.eventmentions_partitioned` m\n",
      "INNER JOIN `gdelt-bq.gdeltv2.events_partitioned` e\n",
      "        ON m.GLOBALEVENTID = e.GLOBALEVENTID\n",
      "WHERE ActionGeo_CountryCode = 'BN' \n",
      "    OR e.Actor1Geo_CountryCode = 'BN' \n",
      "    OR e.Actor2Geo_CountryCode = 'BN' \n",
      "    OR e.Actor1CountryCode = 'BEN' \n",
      "    OR e.Actor2CountryCode = 'BEN'\n",
      "    \n"
     ]
    },
    {
     "name": "stderr",
     "output_type": "stream",
     "text": [
      "2025-04-21 22:18:54,276 - INFO - Octets facturés : 425344368640\n",
      "2025-04-21 22:18:56,687 - INFO - Les données ont été exportées dans le fichier : benin_mentions_20250421_221838.csv\n",
      "2025-04-21 22:18:56,688 - INFO - Nombre de lignes dans le fichier : 796704\n"
     ]
    },
    {
     "name": "stdout",
     "output_type": "stream",
     "text": [
      " Extraction réussie pour \n",
      "SELECT  m.GLOBALEVENTID, \n",
      "        m.MentionTimeDate, \n",
      "        m.MentionType,\n",
      "        m.MentionSourceName,\n",
      "        m.MentionIdentifier,\n",
      "        m.ActionCharOffset,\n",
      "        m.Confidence,\n",
      "        m.MentionDocTone\n",
      "FROM `gdelt-bq.gdeltv2.eventmentions_partitioned` m\n",
      "INNER JOIN `gdelt-bq.gdeltv2.events_partitioned` e\n",
      "        ON m.GLOBALEVENTID = e.GLOBALEVENTID\n",
      "WHERE ActionGeo_CountryCode = 'BN' \n",
      "    OR e.Actor1Geo_CountryCode = 'BN' \n",
      "    OR e.Actor2Geo_CountryCode = 'BN' \n",
      "    OR e.Actor1CountryCode = 'BEN' \n",
      "    OR e.Actor2CountryCode = 'BEN'\n",
      "    \n",
      " Les extractions sont terminées. Données enregistrées dans /home/pionner02/Pionner02 UlChris-Project/data/extract_data/benin_mentions_20250421_221838.csv\n",
      " Fichiers générés après extraction :\n",
      "  - Fichier benin_events sauvegardé dans /home/pionner02/Pionner02 UlChris-Project/data/extract_data/benin_events_20250421_221827.csv\n",
      "  - Fichier benin_mentions sauvegardé dans /home/pionner02/Pionner02 UlChris-Project/data/extract_data/benin_mentions_20250421_221838.csv\n",
      " Client BigQuery fermé proprement.\n"
     ]
    }
   ],
   "source": [
    "# Exécution de toutes les extractions définies\n",
    "\n",
    "extracted_files = {}    # Dictionnaire pour stocker les fichiers générés\n",
    "\n",
    "# Liste des extractions à effectuer\n",
    "try:\n",
    "    for query, table_name in [\n",
    "        (events_query, \"benin_events\"),\n",
    "        (mentions_query, \"benin_mentions\"),\n",
    "    ]:\n",
    "        try:\n",
    "            print(f\" Extraction en cours pour {table_name}\")\n",
    "            output_file = extract_table(\n",
    "                query=query,\n",
    "                table_name=table_name,\n",
    "                output_dir=output_csv_dir,\n",
    "                client=client\n",
    "            )\n",
    "            if output_file:\n",
    "                print(f\" Extraction réussie pour {table_name}\")\n",
    "                extracted_files[table_name] = output_file\n",
    "            else:\n",
    "                print(f\" Pas de fichier généré pour {table_name}\")\n",
    "        except Exception as e:\n",
    "            print(f\" Échec de l'extraction pour {table_name} : {e}\")\n",
    "\n",
    "    print(f\" Les extractions sont terminées. Données enregistrées dans {output_file}\")\n",
    "    if extracted_files:\n",
    "        print(\" Fichiers générés après extraction :\")\n",
    "        for name, path in extracted_files.items():\n",
    "            print(f\"  - Fichier {name} sauvegardé dans {path}\")\n",
    "    else:\n",
    "        print(\" Aucune donnée n’a été extraite avec succès.\")\n",
    "\n",
    "finally:\n",
    "    client.close()\n",
    "    print(\" Client BigQuery fermé proprement.\")"
   ]
  },
  {
   "cell_type": "markdown",
   "id": "8e158edb",
   "metadata": {},
   "source": [
    "## DataBase Structuring\n",
    "À la suite de l’extraction des données relatives au Bénin depuis la base GDELT, cette étape consiste à préparer et structurer les données dans une base de données relationnelle.\n",
    "\n",
    "Avant l’intégration dans la base de données, les données extraites subissent une phase de préparation indispensable afin d’assurer leur qualité, leur cohérence et leur compatibilité avec le modèle relationnel. Cette phase garantit que les données sont fiables, uniformes et prêtes à être intégrées dans une base relationnelle sans erreur technique ou logique.\n",
    "\n",
    "Quant à la structuration, elle a pour objectif de rendre les données plus accessibles, faciles à interroger de manière efficace, et prêtes pour des analyses avancées.\n",
    "Elle repose sur une organisation logique et normalisée des informations extraites, facilitant leur exploitation future dans des environnements analytiques."
   ]
  },
  {
   "cell_type": "code",
   "execution_count": 2,
   "id": "428df542",
   "metadata": {},
   "outputs": [],
   "source": [
    "# Dossier des fichiers CSV après extraction\n",
    "output_csv_dir = \"/home/pionner02/Pionner02 UlChris-Project/data/extract_data\""
   ]
  },
  {
   "cell_type": "code",
   "execution_count": null,
   "id": "5a9aec44",
   "metadata": {},
   "outputs": [
    {
     "name": "stdout",
     "output_type": "stream",
     "text": [
      " Fichier le plus récent trouvé dans /home/pionner02/Pionner02 UlChris-Project/data/extract_data pour 'benin_events' : benin_events_20250421_221827.csv\n",
      " Fichier le plus récent trouvé dans /home/pionner02/Pionner02 UlChris-Project/data/extract_data pour 'benin_mentions' : benin_mentions_20250421_221838.csv\n"
     ]
    }
   ],
   "source": [
    "from functions.get_latest_file import get_latest_file_by_keyword\n",
    "\n",
    "# Identification des fichiers CSV les plus récents extraits de GDELT\n",
    "latest_files_dict = {}\n",
    "\n",
    "try:\n",
    "    for prefix in [\n",
    "                  'benin_events', \n",
    "                  'benin_mentions'\n",
    "                 ]:\n",
    "        latest_file = get_latest_file_by_keyword(prefix, output_csv_dir, \".csv\")\n",
    "        if latest_file:\n",
    "            latest_files_dict[prefix] = latest_file\n",
    "        \n",
    "except Exception as e:\n",
    "    print(f\" Une erreur est survenue lors de la recherche : {e}\")"
   ]
  },
  {
   "cell_type": "code",
   "execution_count": 48,
   "id": "dcbb1bcf",
   "metadata": {},
   "outputs": [
    {
     "name": "stdout",
     "output_type": "stream",
     "text": [
      " Les fichiers CSV après traitement des données seront sauvegardés dans : /home/pionner02/Pionner02 UlChris-Project/data/cleaned_data\n"
     ]
    }
   ],
   "source": [
    "# Définir le dossier de destination des fichiers après nettoyage des données\n",
    "cleaned_csv_dir = \"/home/pionner02/Pionner02 UlChris-Project/data/cleaned_data\"\n",
    "\n",
    "os.makedirs(cleaned_csv_dir, exist_ok=True)  # Créer le dossier si inexistant\n",
    "print(f\" Les fichiers CSV après traitement des données seront sauvegardés dans : {cleaned_csv_dir}\")\n",
    "\n",
    "# Dossier contenant les fichiers extraits de GDELT\n",
    "input_dir = \"/home/pionner02/Pionner02 UlChris-Project/data/extract_data\""
   ]
  },
  {
   "cell_type": "code",
   "execution_count": 49,
   "id": "a31c062b",
   "metadata": {},
   "outputs": [
    {
     "name": "stdout",
     "output_type": "stream",
     "text": [
      "Ficher trouvé pour prefix='benin_events' : file_name='benin_events_20250421_221827.csv'\n",
      "Chargement du fichier : benin_events_20250421_221827.csv\n",
      "Fichier benin_events_20250421_221827.csv chargé : (468642 lignes)\n",
      "Ficher trouvé pour prefix='benin_mentions' : file_name='benin_mentions_20250421_221838.csv'\n",
      "Chargement du fichier : benin_mentions_20250421_221838.csv\n",
      "Fichier benin_mentions_20250421_221838.csv chargé : (796704 lignes)\n"
     ]
    }
   ],
   "source": [
    "import pandas as pd\n",
    "\n",
    "dfs = {}  # Dictionnaire pour stocker les DataFrames à partir des fichiers exportés\n",
    "\n",
    "for prefix, file_name in latest_files_dict.items():\n",
    "    print(f\"Ficher trouvé pour {prefix=} : {file_name=}\")\n",
    "\n",
    "    if file_name is None:\n",
    "        print(f\" Aucun fichier trouvé pour le préfixe '{prefix}'.\")\n",
    "        continue\n",
    "    \n",
    "    if not file_name.lower().endswith('.csv'):\n",
    "        print(f\" Le fichier '{file_name}' n'est pas un CSV.\")\n",
    "        continue\n",
    "    \n",
    "    input_path = os.path.join(input_dir, file_name)   # Dossier d'origine des fichiers à traiter\n",
    "\n",
    "    print(f\"Chargement du fichier : {file_name}\")\n",
    "    \n",
    "    try:\n",
    "        df = pd.read_csv(input_path)\n",
    "        dfs[prefix] = {\n",
    "        \"df\": df,\n",
    "        \"file_name\": file_name\n",
    "        }\n",
    "        \n",
    "        print(f\"Fichier {file_name} chargé : ({len(df)} lignes)\")\n",
    "    except FileNotFoundError:\n",
    "        print(f\"Fichier introuvable : {input_path}\")\n",
    "        continue\n",
    "        \n",
    "    except Exception as e:\n",
    "        print(f\"Erreur lors du chargement de {file_name} : {e}\")\n",
    "        continue"
   ]
  },
  {
   "cell_type": "code",
   "execution_count": null,
   "id": "6746b61a",
   "metadata": {},
   "outputs": [
    {
     "name": "stdout",
     "output_type": "stream",
     "text": [
      "Aperçu des premières de lignes benin_events_20250421_221827.csv :\n"
     ]
    },
    {
     "data": {
      "application/vnd.microsoft.datawrangler.viewer.v0+json": {
       "columns": [
        {
         "name": "index",
         "rawType": "int64",
         "type": "integer"
        },
        {
         "name": "GLOBALEVENTID",
         "rawType": "int64",
         "type": "integer"
        },
        {
         "name": "SQLDATE",
         "rawType": "int64",
         "type": "integer"
        },
        {
         "name": "GoldsteinScale",
         "rawType": "float64",
         "type": "float"
        },
        {
         "name": "NumMentions",
         "rawType": "int64",
         "type": "integer"
        },
        {
         "name": "NumSources",
         "rawType": "int64",
         "type": "integer"
        },
        {
         "name": "NumArticles",
         "rawType": "int64",
         "type": "integer"
        },
        {
         "name": "AvgTone",
         "rawType": "float64",
         "type": "float"
        },
        {
         "name": "ActionGeo_FullName",
         "rawType": "object",
         "type": "string"
        },
        {
         "name": "ActionGeo_Lat",
         "rawType": "float64",
         "type": "float"
        },
        {
         "name": "ActionGeo_Long",
         "rawType": "float64",
         "type": "float"
        },
        {
         "name": "SOURCEURL",
         "rawType": "object",
         "type": "string"
        }
       ],
       "conversionMethod": "pd.DataFrame",
       "ref": "03593003-1776-40b9-8205-81b343f18d28",
       "rows": [
        [
         "0",
         "1238864555",
         "20250419",
         "-10.0",
         "15",
         "2",
         "15",
         "-9.74663859968519",
         "Koudou, Benin (general), Benin",
         "10.8945",
         "1.16328",
         "https://guardian.ng/news/suspected-jihadists-kill-eight-soldiers-in-benin/"
        ],
        [
         "1",
         "1239269408",
         "20250421",
         "-10.0",
         "16",
         "2",
         "16",
         "-3.94265232974911",
         "Benin",
         "9.5",
         "2.25",
         "https://www.aljazeera.net/news/2025/4/21/%D8%AA%D9%86%D8%B8%D9%8A%D9%85-%D8%A7%D9%84%D9%82%D8%A7%D8%B9%D8%AF%D8%A9-%D9%8A%D8%AA%D8%A8%D9%86%D9%89-%D8%A7%D9%84%D9%87%D8%AC%D9%85%D8%A7%D8%AA-%D8%A7%D9%84%D8%AA%D9%8A"
        ],
        [
         "2",
         "1117208340",
         "20230726",
         "-2.0",
         "30",
         "3",
         "30",
         "-4.84848484848484",
         "Benin",
         "9.5",
         "2.25",
         "https://www.varmatin.com/faits-divers/qui-etait-la-femme-retrouvee-morte-dans-un-congelateur-dans-lessonne-863407"
        ],
        [
         "3",
         "1117210338",
         "20230726",
         "3.4",
         "12",
         "1",
         "12",
         "4.40340909090909",
         "Benin",
         "9.5",
         "2.25",
         "https://www.prnewswire.com/news-releases/nexgen-packaging-and-arise-iip-join-forces-to-drive-the-african-textile--apparel-industry-forward-301885949.html"
        ],
        [
         "4",
         "1124580946",
         "20230903",
         "3.4",
         "12",
         "2",
         "12",
         "2.53582130895722",
         "Benin",
         "9.5",
         "2.25",
         "https://www.naijanews.com/2023/09/03/edo-obaseki-speaks-on-pdps-victory-in-lg-election/"
        ]
       ],
       "shape": {
        "columns": 11,
        "rows": 5
       }
      },
      "text/html": [
       "<div>\n",
       "<style scoped>\n",
       "    .dataframe tbody tr th:only-of-type {\n",
       "        vertical-align: middle;\n",
       "    }\n",
       "\n",
       "    .dataframe tbody tr th {\n",
       "        vertical-align: top;\n",
       "    }\n",
       "\n",
       "    .dataframe thead th {\n",
       "        text-align: right;\n",
       "    }\n",
       "</style>\n",
       "<table border=\"1\" class=\"dataframe\">\n",
       "  <thead>\n",
       "    <tr style=\"text-align: right;\">\n",
       "      <th></th>\n",
       "      <th>GLOBALEVENTID</th>\n",
       "      <th>SQLDATE</th>\n",
       "      <th>GoldsteinScale</th>\n",
       "      <th>NumMentions</th>\n",
       "      <th>NumSources</th>\n",
       "      <th>NumArticles</th>\n",
       "      <th>AvgTone</th>\n",
       "      <th>ActionGeo_FullName</th>\n",
       "      <th>ActionGeo_Lat</th>\n",
       "      <th>ActionGeo_Long</th>\n",
       "      <th>SOURCEURL</th>\n",
       "    </tr>\n",
       "  </thead>\n",
       "  <tbody>\n",
       "    <tr>\n",
       "      <th>0</th>\n",
       "      <td>1238864555</td>\n",
       "      <td>20250419</td>\n",
       "      <td>-10.0</td>\n",
       "      <td>15</td>\n",
       "      <td>2</td>\n",
       "      <td>15</td>\n",
       "      <td>-9.746639</td>\n",
       "      <td>Koudou, Benin (general), Benin</td>\n",
       "      <td>10.8945</td>\n",
       "      <td>1.16328</td>\n",
       "      <td>https://guardian.ng/news/suspected-jihadists-k...</td>\n",
       "    </tr>\n",
       "    <tr>\n",
       "      <th>1</th>\n",
       "      <td>1239269408</td>\n",
       "      <td>20250421</td>\n",
       "      <td>-10.0</td>\n",
       "      <td>16</td>\n",
       "      <td>2</td>\n",
       "      <td>16</td>\n",
       "      <td>-3.942652</td>\n",
       "      <td>Benin</td>\n",
       "      <td>9.5000</td>\n",
       "      <td>2.25000</td>\n",
       "      <td>https://www.aljazeera.net/news/2025/4/21/%D8%A...</td>\n",
       "    </tr>\n",
       "    <tr>\n",
       "      <th>2</th>\n",
       "      <td>1117208340</td>\n",
       "      <td>20230726</td>\n",
       "      <td>-2.0</td>\n",
       "      <td>30</td>\n",
       "      <td>3</td>\n",
       "      <td>30</td>\n",
       "      <td>-4.848485</td>\n",
       "      <td>Benin</td>\n",
       "      <td>9.5000</td>\n",
       "      <td>2.25000</td>\n",
       "      <td>https://www.varmatin.com/faits-divers/qui-etai...</td>\n",
       "    </tr>\n",
       "    <tr>\n",
       "      <th>3</th>\n",
       "      <td>1117210338</td>\n",
       "      <td>20230726</td>\n",
       "      <td>3.4</td>\n",
       "      <td>12</td>\n",
       "      <td>1</td>\n",
       "      <td>12</td>\n",
       "      <td>4.403409</td>\n",
       "      <td>Benin</td>\n",
       "      <td>9.5000</td>\n",
       "      <td>2.25000</td>\n",
       "      <td>https://www.prnewswire.com/news-releases/nexge...</td>\n",
       "    </tr>\n",
       "    <tr>\n",
       "      <th>4</th>\n",
       "      <td>1124580946</td>\n",
       "      <td>20230903</td>\n",
       "      <td>3.4</td>\n",
       "      <td>12</td>\n",
       "      <td>2</td>\n",
       "      <td>12</td>\n",
       "      <td>2.535821</td>\n",
       "      <td>Benin</td>\n",
       "      <td>9.5000</td>\n",
       "      <td>2.25000</td>\n",
       "      <td>https://www.naijanews.com/2023/09/03/edo-obase...</td>\n",
       "    </tr>\n",
       "  </tbody>\n",
       "</table>\n",
       "</div>"
      ],
      "text/plain": [
       "   GLOBALEVENTID   SQLDATE  GoldsteinScale  NumMentions  NumSources  \\\n",
       "0     1238864555  20250419           -10.0           15           2   \n",
       "1     1239269408  20250421           -10.0           16           2   \n",
       "2     1117208340  20230726            -2.0           30           3   \n",
       "3     1117210338  20230726             3.4           12           1   \n",
       "4     1124580946  20230903             3.4           12           2   \n",
       "\n",
       "   NumArticles   AvgTone              ActionGeo_FullName  ActionGeo_Lat  \\\n",
       "0           15 -9.746639  Koudou, Benin (general), Benin        10.8945   \n",
       "1           16 -3.942652                           Benin         9.5000   \n",
       "2           30 -4.848485                           Benin         9.5000   \n",
       "3           12  4.403409                           Benin         9.5000   \n",
       "4           12  2.535821                           Benin         9.5000   \n",
       "\n",
       "   ActionGeo_Long                                          SOURCEURL  \n",
       "0         1.16328  https://guardian.ng/news/suspected-jihadists-k...  \n",
       "1         2.25000  https://www.aljazeera.net/news/2025/4/21/%D8%A...  \n",
       "2         2.25000  https://www.varmatin.com/faits-divers/qui-etai...  \n",
       "3         2.25000  https://www.prnewswire.com/news-releases/nexge...  \n",
       "4         2.25000  https://www.naijanews.com/2023/09/03/edo-obase...  "
      ]
     },
     "metadata": {},
     "output_type": "display_data"
    },
    {
     "name": "stdout",
     "output_type": "stream",
     "text": [
      "Aperçu des premières de lignes benin_mentions_20250421_221838.csv :\n"
     ]
    },
    {
     "data": {
      "application/vnd.microsoft.datawrangler.viewer.v0+json": {
       "columns": [
        {
         "name": "index",
         "rawType": "int64",
         "type": "integer"
        },
        {
         "name": "GLOBALEVENTID",
         "rawType": "int64",
         "type": "integer"
        },
        {
         "name": "MentionTimeDate",
         "rawType": "int64",
         "type": "integer"
        },
        {
         "name": "MentionType",
         "rawType": "int64",
         "type": "integer"
        },
        {
         "name": "MentionSourceName",
         "rawType": "object",
         "type": "string"
        },
        {
         "name": "MentionIdentifier",
         "rawType": "object",
         "type": "string"
        },
        {
         "name": "ActionCharOffset",
         "rawType": "int64",
         "type": "integer"
        },
        {
         "name": "Confidence",
         "rawType": "int64",
         "type": "integer"
        },
        {
         "name": "MentionDocTone",
         "rawType": "float64",
         "type": "float"
        }
       ],
       "conversionMethod": "pd.DataFrame",
       "ref": "7d2b7402-bf2f-42fc-a6ee-1227a7a979d2",
       "rows": [
        [
         "0",
         "1080064261",
         "20230113200000",
         "1",
         "bbc.com",
         "https://www.bbc.com/news/av/world-africa-64269446",
         "71",
         "90",
         "6.38297872340425"
        ],
        [
         "1",
         "1176169626",
         "20240516184500",
         "1",
         "tribuneonlineng.com",
         "https://tribuneonlineng.com/edo-2024-inec-to-begin-distribution-of-373030-uncollected-pvcs/",
         "417",
         "90",
         "1.1764705882353"
        ],
        [
         "2",
         "1001321613",
         "20210827211500",
         "1",
         "ahram.org.eg",
         "https://english.ahram.org.eg/NewsContent/1/64/421939/Egypt/Politics-/Egypts-economy-is-capable-of-facing-challenges,-me.aspx",
         "367",
         "90",
         "1.92307692307692"
        ],
        [
         "3",
         "1080210460",
         "20230115143000",
         "1",
         "english.news.cn",
         "https://english.news.cn/20230115/8600befffbc44f42aba9acbe83d90051/c.html",
         "391",
         "90",
         "7.57281553398058"
        ],
        [
         "4",
         "1080210533",
         "20230115143000",
         "1",
         "english.news.cn",
         "https://english.news.cn/20230115/8600befffbc44f42aba9acbe83d90051/c.html",
         "391",
         "90",
         "7.57281553398058"
        ]
       ],
       "shape": {
        "columns": 8,
        "rows": 5
       }
      },
      "text/html": [
       "<div>\n",
       "<style scoped>\n",
       "    .dataframe tbody tr th:only-of-type {\n",
       "        vertical-align: middle;\n",
       "    }\n",
       "\n",
       "    .dataframe tbody tr th {\n",
       "        vertical-align: top;\n",
       "    }\n",
       "\n",
       "    .dataframe thead th {\n",
       "        text-align: right;\n",
       "    }\n",
       "</style>\n",
       "<table border=\"1\" class=\"dataframe\">\n",
       "  <thead>\n",
       "    <tr style=\"text-align: right;\">\n",
       "      <th></th>\n",
       "      <th>GLOBALEVENTID</th>\n",
       "      <th>MentionTimeDate</th>\n",
       "      <th>MentionType</th>\n",
       "      <th>MentionSourceName</th>\n",
       "      <th>MentionIdentifier</th>\n",
       "      <th>ActionCharOffset</th>\n",
       "      <th>Confidence</th>\n",
       "      <th>MentionDocTone</th>\n",
       "    </tr>\n",
       "  </thead>\n",
       "  <tbody>\n",
       "    <tr>\n",
       "      <th>0</th>\n",
       "      <td>1080064261</td>\n",
       "      <td>20230113200000</td>\n",
       "      <td>1</td>\n",
       "      <td>bbc.com</td>\n",
       "      <td>https://www.bbc.com/news/av/world-africa-64269446</td>\n",
       "      <td>71</td>\n",
       "      <td>90</td>\n",
       "      <td>6.382979</td>\n",
       "    </tr>\n",
       "    <tr>\n",
       "      <th>1</th>\n",
       "      <td>1176169626</td>\n",
       "      <td>20240516184500</td>\n",
       "      <td>1</td>\n",
       "      <td>tribuneonlineng.com</td>\n",
       "      <td>https://tribuneonlineng.com/edo-2024-inec-to-b...</td>\n",
       "      <td>417</td>\n",
       "      <td>90</td>\n",
       "      <td>1.176471</td>\n",
       "    </tr>\n",
       "    <tr>\n",
       "      <th>2</th>\n",
       "      <td>1001321613</td>\n",
       "      <td>20210827211500</td>\n",
       "      <td>1</td>\n",
       "      <td>ahram.org.eg</td>\n",
       "      <td>https://english.ahram.org.eg/NewsContent/1/64/...</td>\n",
       "      <td>367</td>\n",
       "      <td>90</td>\n",
       "      <td>1.923077</td>\n",
       "    </tr>\n",
       "    <tr>\n",
       "      <th>3</th>\n",
       "      <td>1080210460</td>\n",
       "      <td>20230115143000</td>\n",
       "      <td>1</td>\n",
       "      <td>english.news.cn</td>\n",
       "      <td>https://english.news.cn/20230115/8600befffbc44...</td>\n",
       "      <td>391</td>\n",
       "      <td>90</td>\n",
       "      <td>7.572816</td>\n",
       "    </tr>\n",
       "    <tr>\n",
       "      <th>4</th>\n",
       "      <td>1080210533</td>\n",
       "      <td>20230115143000</td>\n",
       "      <td>1</td>\n",
       "      <td>english.news.cn</td>\n",
       "      <td>https://english.news.cn/20230115/8600befffbc44...</td>\n",
       "      <td>391</td>\n",
       "      <td>90</td>\n",
       "      <td>7.572816</td>\n",
       "    </tr>\n",
       "  </tbody>\n",
       "</table>\n",
       "</div>"
      ],
      "text/plain": [
       "   GLOBALEVENTID  MentionTimeDate  MentionType    MentionSourceName  \\\n",
       "0     1080064261   20230113200000            1              bbc.com   \n",
       "1     1176169626   20240516184500            1  tribuneonlineng.com   \n",
       "2     1001321613   20210827211500            1         ahram.org.eg   \n",
       "3     1080210460   20230115143000            1      english.news.cn   \n",
       "4     1080210533   20230115143000            1      english.news.cn   \n",
       "\n",
       "                                   MentionIdentifier  ActionCharOffset  \\\n",
       "0  https://www.bbc.com/news/av/world-africa-64269446                71   \n",
       "1  https://tribuneonlineng.com/edo-2024-inec-to-b...               417   \n",
       "2  https://english.ahram.org.eg/NewsContent/1/64/...               367   \n",
       "3  https://english.news.cn/20230115/8600befffbc44...               391   \n",
       "4  https://english.news.cn/20230115/8600befffbc44...               391   \n",
       "\n",
       "   Confidence  MentionDocTone  \n",
       "0          90        6.382979  \n",
       "1          90        1.176471  \n",
       "2          90        1.923077  \n",
       "3          90        7.572816  \n",
       "4          90        7.572816  "
      ]
     },
     "metadata": {},
     "output_type": "display_data"
    }
   ],
   "source": [
    "from IPython.display import display\n",
    "\n",
    "for prefix, data in dfs.items():\n",
    "    df = data[\"df\"]\n",
    "    file_name = data[\"file_name\"]\n",
    "\n",
    "   # Aperçu des données contenues dans les fichiers chargés\n",
    "    try:\n",
    "        print(f\"Aperçu des premières de lignes {file_name} :\")\n",
    "        display(df.head())\n",
    "        \n",
    "    except Exception as e:\n",
    "        print(f\"Erreur lors l'affichage de {file_name} :\", e)"
   ]
  },
  {
   "cell_type": "code",
   "execution_count": 51,
   "id": "cdc3684e",
   "metadata": {},
   "outputs": [
    {
     "name": "stdout",
     "output_type": "stream",
     "text": [
      "    - Fichier benin_events_20250421_221827.csv : \n",
      "Valeurs manquantes par colonne : \n",
      "GLOBALEVENTID            0\n",
      "SQLDATE                  0\n",
      "GoldsteinScale          22\n",
      "NumMentions              0\n",
      "NumSources               0\n",
      "NumArticles              0\n",
      "AvgTone                  0\n",
      "ActionGeo_FullName    3638\n",
      "ActionGeo_Lat         3289\n",
      "ActionGeo_Long        3284\n",
      "SOURCEURL                0\n",
      "dtype: int64\n",
      "Nombre de lignes avec des valeurs manquantes : 3660\n",
      "Aperçu des lignes avec valeurs manquantes :\n"
     ]
    },
    {
     "data": {
      "application/vnd.microsoft.datawrangler.viewer.v0+json": {
       "columns": [
        {
         "name": "index",
         "rawType": "int64",
         "type": "integer"
        },
        {
         "name": "GLOBALEVENTID",
         "rawType": "int64",
         "type": "integer"
        },
        {
         "name": "SQLDATE",
         "rawType": "int64",
         "type": "integer"
        },
        {
         "name": "GoldsteinScale",
         "rawType": "float64",
         "type": "float"
        },
        {
         "name": "NumMentions",
         "rawType": "int64",
         "type": "integer"
        },
        {
         "name": "NumSources",
         "rawType": "int64",
         "type": "integer"
        },
        {
         "name": "NumArticles",
         "rawType": "int64",
         "type": "integer"
        },
        {
         "name": "AvgTone",
         "rawType": "float64",
         "type": "float"
        },
        {
         "name": "ActionGeo_FullName",
         "rawType": "object",
         "type": "unknown"
        },
        {
         "name": "ActionGeo_Lat",
         "rawType": "float64",
         "type": "float"
        },
        {
         "name": "ActionGeo_Long",
         "rawType": "float64",
         "type": "float"
        },
        {
         "name": "SOURCEURL",
         "rawType": "object",
         "type": "string"
        }
       ],
       "conversionMethod": "pd.DataFrame",
       "ref": "2bf7d9d3-7e0b-480d-9632-724dff026fef",
       "rows": [
        [
         "273",
         "745951159",
         "20180409",
         "0.4",
         "15",
         "1",
         "15",
         "0.0",
         null,
         null,
         null,
         "https://www.cta.int/en/copyrights"
        ],
        [
         "1016",
         "648170050",
         "20170419",
         "3.0",
         "30",
         "1",
         "30",
         "-2.57272087837063",
         null,
         null,
         null,
         "http://www.24haubenin.info/spip.php?page=sum&id_article=13229"
        ],
        [
         "1017",
         "648170051",
         "20170419",
         "7.0",
         "30",
         "1",
         "30",
         "-2.57272087837063",
         null,
         null,
         null,
         "http://www.24haubenin.info/spip.php?page=sum&id_article=13229"
        ],
        [
         "2223",
         "753468099",
         "20180506",
         "3.4",
         "30",
         "1",
         "30",
         "-2.00730605853082",
         null,
         null,
         null,
         "https://www.24haubenin.info/spip.php?page=sum&id_article=16674"
        ],
        [
         "3455",
         "681438471",
         "20170815",
         "1.9",
         "30",
         "1",
         "30",
         "0.389106531160693",
         null,
         null,
         null,
         "https://www.24haubenin.info/spip.php?page=sum&id_article=14352"
        ]
       ],
       "shape": {
        "columns": 11,
        "rows": 5
       }
      },
      "text/html": [
       "<div>\n",
       "<style scoped>\n",
       "    .dataframe tbody tr th:only-of-type {\n",
       "        vertical-align: middle;\n",
       "    }\n",
       "\n",
       "    .dataframe tbody tr th {\n",
       "        vertical-align: top;\n",
       "    }\n",
       "\n",
       "    .dataframe thead th {\n",
       "        text-align: right;\n",
       "    }\n",
       "</style>\n",
       "<table border=\"1\" class=\"dataframe\">\n",
       "  <thead>\n",
       "    <tr style=\"text-align: right;\">\n",
       "      <th></th>\n",
       "      <th>GLOBALEVENTID</th>\n",
       "      <th>SQLDATE</th>\n",
       "      <th>GoldsteinScale</th>\n",
       "      <th>NumMentions</th>\n",
       "      <th>NumSources</th>\n",
       "      <th>NumArticles</th>\n",
       "      <th>AvgTone</th>\n",
       "      <th>ActionGeo_FullName</th>\n",
       "      <th>ActionGeo_Lat</th>\n",
       "      <th>ActionGeo_Long</th>\n",
       "      <th>SOURCEURL</th>\n",
       "    </tr>\n",
       "  </thead>\n",
       "  <tbody>\n",
       "    <tr>\n",
       "      <th>273</th>\n",
       "      <td>745951159</td>\n",
       "      <td>20180409</td>\n",
       "      <td>0.4</td>\n",
       "      <td>15</td>\n",
       "      <td>1</td>\n",
       "      <td>15</td>\n",
       "      <td>0.000000</td>\n",
       "      <td>NaN</td>\n",
       "      <td>NaN</td>\n",
       "      <td>NaN</td>\n",
       "      <td>https://www.cta.int/en/copyrights</td>\n",
       "    </tr>\n",
       "    <tr>\n",
       "      <th>1016</th>\n",
       "      <td>648170050</td>\n",
       "      <td>20170419</td>\n",
       "      <td>3.0</td>\n",
       "      <td>30</td>\n",
       "      <td>1</td>\n",
       "      <td>30</td>\n",
       "      <td>-2.572721</td>\n",
       "      <td>NaN</td>\n",
       "      <td>NaN</td>\n",
       "      <td>NaN</td>\n",
       "      <td>http://www.24haubenin.info/spip.php?page=sum&amp;i...</td>\n",
       "    </tr>\n",
       "    <tr>\n",
       "      <th>1017</th>\n",
       "      <td>648170051</td>\n",
       "      <td>20170419</td>\n",
       "      <td>7.0</td>\n",
       "      <td>30</td>\n",
       "      <td>1</td>\n",
       "      <td>30</td>\n",
       "      <td>-2.572721</td>\n",
       "      <td>NaN</td>\n",
       "      <td>NaN</td>\n",
       "      <td>NaN</td>\n",
       "      <td>http://www.24haubenin.info/spip.php?page=sum&amp;i...</td>\n",
       "    </tr>\n",
       "    <tr>\n",
       "      <th>2223</th>\n",
       "      <td>753468099</td>\n",
       "      <td>20180506</td>\n",
       "      <td>3.4</td>\n",
       "      <td>30</td>\n",
       "      <td>1</td>\n",
       "      <td>30</td>\n",
       "      <td>-2.007306</td>\n",
       "      <td>NaN</td>\n",
       "      <td>NaN</td>\n",
       "      <td>NaN</td>\n",
       "      <td>https://www.24haubenin.info/spip.php?page=sum&amp;...</td>\n",
       "    </tr>\n",
       "    <tr>\n",
       "      <th>3455</th>\n",
       "      <td>681438471</td>\n",
       "      <td>20170815</td>\n",
       "      <td>1.9</td>\n",
       "      <td>30</td>\n",
       "      <td>1</td>\n",
       "      <td>30</td>\n",
       "      <td>0.389107</td>\n",
       "      <td>NaN</td>\n",
       "      <td>NaN</td>\n",
       "      <td>NaN</td>\n",
       "      <td>https://www.24haubenin.info/spip.php?page=sum&amp;...</td>\n",
       "    </tr>\n",
       "  </tbody>\n",
       "</table>\n",
       "</div>"
      ],
      "text/plain": [
       "      GLOBALEVENTID   SQLDATE  GoldsteinScale  NumMentions  NumSources  \\\n",
       "273       745951159  20180409             0.4           15           1   \n",
       "1016      648170050  20170419             3.0           30           1   \n",
       "1017      648170051  20170419             7.0           30           1   \n",
       "2223      753468099  20180506             3.4           30           1   \n",
       "3455      681438471  20170815             1.9           30           1   \n",
       "\n",
       "      NumArticles   AvgTone ActionGeo_FullName  ActionGeo_Lat  ActionGeo_Long  \\\n",
       "273            15  0.000000                NaN            NaN             NaN   \n",
       "1016           30 -2.572721                NaN            NaN             NaN   \n",
       "1017           30 -2.572721                NaN            NaN             NaN   \n",
       "2223           30 -2.007306                NaN            NaN             NaN   \n",
       "3455           30  0.389107                NaN            NaN             NaN   \n",
       "\n",
       "                                              SOURCEURL  \n",
       "273                   https://www.cta.int/en/copyrights  \n",
       "1016  http://www.24haubenin.info/spip.php?page=sum&i...  \n",
       "1017  http://www.24haubenin.info/spip.php?page=sum&i...  \n",
       "2223  https://www.24haubenin.info/spip.php?page=sum&...  \n",
       "3455  https://www.24haubenin.info/spip.php?page=sum&...  "
      ]
     },
     "metadata": {},
     "output_type": "display_data"
    },
    {
     "name": "stdout",
     "output_type": "stream",
     "text": [
      "    - Fichier benin_mentions_20250421_221838.csv : \n",
      "Valeurs manquantes par colonne : \n",
      "GLOBALEVENTID         0\n",
      "MentionTimeDate       0\n",
      "MentionType           0\n",
      "MentionSourceName    90\n",
      "MentionIdentifier     0\n",
      "ActionCharOffset      0\n",
      "Confidence            0\n",
      "MentionDocTone        0\n",
      "dtype: int64\n",
      "Nombre de lignes avec des valeurs manquantes : 90\n",
      "Aperçu des lignes avec valeurs manquantes :\n"
     ]
    },
    {
     "data": {
      "application/vnd.microsoft.datawrangler.viewer.v0+json": {
       "columns": [
        {
         "name": "index",
         "rawType": "int64",
         "type": "integer"
        },
        {
         "name": "GLOBALEVENTID",
         "rawType": "int64",
         "type": "integer"
        },
        {
         "name": "MentionTimeDate",
         "rawType": "int64",
         "type": "integer"
        },
        {
         "name": "MentionType",
         "rawType": "int64",
         "type": "integer"
        },
        {
         "name": "MentionSourceName",
         "rawType": "object",
         "type": "unknown"
        },
        {
         "name": "MentionIdentifier",
         "rawType": "object",
         "type": "string"
        },
        {
         "name": "ActionCharOffset",
         "rawType": "int64",
         "type": "integer"
        },
        {
         "name": "Confidence",
         "rawType": "int64",
         "type": "integer"
        },
        {
         "name": "MentionDocTone",
         "rawType": "float64",
         "type": "float"
        }
       ],
       "conversionMethod": "pd.DataFrame",
       "ref": "01bffaa4-10ef-4312-9298-3a12d7ca60f9",
       "rows": [
        [
         "34254",
         "417988872",
         "20150318043000",
         "1",
         null,
         "http://162.218.139.66/daily/politics/49674-as-buhari-jonathan-s-wives-woo-women-for-spouses",
         "8502",
         "10",
         "-1.40845070422536"
        ],
        [
         "34814",
         "411293032",
         "20150222080000",
         "1",
         null,
         "http://162.218.139.66/sunday/index.php/point-blank/19681-2015-bogus-oracle-at-work-again-in-benin",
         "4041",
         "10",
         "0.664767331434"
        ],
        [
         "104447",
         "418341268",
         "20150319063000",
         "1",
         null,
         "http://162.218.139.66/daily/news/49870-oshiomhole-urges-probe-of-suspect-s-death-in-detention",
         "898",
         "10",
         "-8.62619808306709"
        ],
        [
         "104448",
         "418341275",
         "20150319063000",
         "1",
         null,
         "http://162.218.139.66/daily/news/49870-oshiomhole-urges-probe-of-suspect-s-death-in-detention",
         "934",
         "10",
         "-8.62619808306709"
        ],
        [
         "110627",
         "416618278",
         "20150313143000",
         "1",
         null,
         "http://162.218.139.66/daily/top-stories/49389-nigeria-drafts-in-foreign-mercenaries-to-take-on-boko-haram",
         "5282",
         "20",
         "-2.27014755959137"
        ]
       ],
       "shape": {
        "columns": 8,
        "rows": 5
       }
      },
      "text/html": [
       "<div>\n",
       "<style scoped>\n",
       "    .dataframe tbody tr th:only-of-type {\n",
       "        vertical-align: middle;\n",
       "    }\n",
       "\n",
       "    .dataframe tbody tr th {\n",
       "        vertical-align: top;\n",
       "    }\n",
       "\n",
       "    .dataframe thead th {\n",
       "        text-align: right;\n",
       "    }\n",
       "</style>\n",
       "<table border=\"1\" class=\"dataframe\">\n",
       "  <thead>\n",
       "    <tr style=\"text-align: right;\">\n",
       "      <th></th>\n",
       "      <th>GLOBALEVENTID</th>\n",
       "      <th>MentionTimeDate</th>\n",
       "      <th>MentionType</th>\n",
       "      <th>MentionSourceName</th>\n",
       "      <th>MentionIdentifier</th>\n",
       "      <th>ActionCharOffset</th>\n",
       "      <th>Confidence</th>\n",
       "      <th>MentionDocTone</th>\n",
       "    </tr>\n",
       "  </thead>\n",
       "  <tbody>\n",
       "    <tr>\n",
       "      <th>34254</th>\n",
       "      <td>417988872</td>\n",
       "      <td>20150318043000</td>\n",
       "      <td>1</td>\n",
       "      <td>NaN</td>\n",
       "      <td>http://162.218.139.66/daily/politics/49674-as-...</td>\n",
       "      <td>8502</td>\n",
       "      <td>10</td>\n",
       "      <td>-1.408451</td>\n",
       "    </tr>\n",
       "    <tr>\n",
       "      <th>34814</th>\n",
       "      <td>411293032</td>\n",
       "      <td>20150222080000</td>\n",
       "      <td>1</td>\n",
       "      <td>NaN</td>\n",
       "      <td>http://162.218.139.66/sunday/index.php/point-b...</td>\n",
       "      <td>4041</td>\n",
       "      <td>10</td>\n",
       "      <td>0.664767</td>\n",
       "    </tr>\n",
       "    <tr>\n",
       "      <th>104447</th>\n",
       "      <td>418341268</td>\n",
       "      <td>20150319063000</td>\n",
       "      <td>1</td>\n",
       "      <td>NaN</td>\n",
       "      <td>http://162.218.139.66/daily/news/49870-oshiomh...</td>\n",
       "      <td>898</td>\n",
       "      <td>10</td>\n",
       "      <td>-8.626198</td>\n",
       "    </tr>\n",
       "    <tr>\n",
       "      <th>104448</th>\n",
       "      <td>418341275</td>\n",
       "      <td>20150319063000</td>\n",
       "      <td>1</td>\n",
       "      <td>NaN</td>\n",
       "      <td>http://162.218.139.66/daily/news/49870-oshiomh...</td>\n",
       "      <td>934</td>\n",
       "      <td>10</td>\n",
       "      <td>-8.626198</td>\n",
       "    </tr>\n",
       "    <tr>\n",
       "      <th>110627</th>\n",
       "      <td>416618278</td>\n",
       "      <td>20150313143000</td>\n",
       "      <td>1</td>\n",
       "      <td>NaN</td>\n",
       "      <td>http://162.218.139.66/daily/top-stories/49389-...</td>\n",
       "      <td>5282</td>\n",
       "      <td>20</td>\n",
       "      <td>-2.270148</td>\n",
       "    </tr>\n",
       "  </tbody>\n",
       "</table>\n",
       "</div>"
      ],
      "text/plain": [
       "        GLOBALEVENTID  MentionTimeDate  MentionType MentionSourceName  \\\n",
       "34254       417988872   20150318043000            1               NaN   \n",
       "34814       411293032   20150222080000            1               NaN   \n",
       "104447      418341268   20150319063000            1               NaN   \n",
       "104448      418341275   20150319063000            1               NaN   \n",
       "110627      416618278   20150313143000            1               NaN   \n",
       "\n",
       "                                        MentionIdentifier  ActionCharOffset  \\\n",
       "34254   http://162.218.139.66/daily/politics/49674-as-...              8502   \n",
       "34814   http://162.218.139.66/sunday/index.php/point-b...              4041   \n",
       "104447  http://162.218.139.66/daily/news/49870-oshiomh...               898   \n",
       "104448  http://162.218.139.66/daily/news/49870-oshiomh...               934   \n",
       "110627  http://162.218.139.66/daily/top-stories/49389-...              5282   \n",
       "\n",
       "        Confidence  MentionDocTone  \n",
       "34254           10       -1.408451  \n",
       "34814           10        0.664767  \n",
       "104447          10       -8.626198  \n",
       "104448          10       -8.626198  \n",
       "110627          20       -2.270148  "
      ]
     },
     "metadata": {},
     "output_type": "display_data"
    }
   ],
   "source": [
    "missing_data_by_table = {}  # Stocker les lignes ayant des valeurs manquantes\n",
    "\n",
    "for prefix, data in dfs.items():\n",
    "    df = data[\"df\"]\n",
    "    file_name = data[\"file_name\"]\n",
    "\n",
    "    try:\n",
    "        print(f\"    - Fichier {file_name} : \")\n",
    "        \n",
    "        # Affichage des valeurs manquantes\n",
    "        missing_values = df.isnull().sum()\n",
    "        print(f\"Valeurs manquantes par colonne : \\n{missing_values}\")\n",
    "\n",
    "        missing_rows = df[df.isnull().any(axis=1)]\n",
    "        print(f\"Nombre de lignes avec des valeurs manquantes :\", len(missing_rows))\n",
    "        \n",
    "        # Affichage des lignes avec valeurs manquantes\n",
    "        if not missing_rows.empty:\n",
    "            missing_data_by_table[prefix] = missing_rows\n",
    "            print(\"Aperçu des lignes avec valeurs manquantes :\")\n",
    "            display(missing_rows.head())\n",
    "        \n",
    "    except Exception as e:\n",
    "        print(f\"Erreur lors de l'affichage des valeurs manquantes de {file_name} :\", e)"
   ]
  },
  {
   "cell_type": "code",
   "execution_count": 52,
   "id": "1ec3b74d",
   "metadata": {},
   "outputs": [
    {
     "name": "stdout",
     "output_type": "stream",
     "text": [
      "    - Fichier benin_events_20250421_221827.csv : \n",
      "Nombre de lignes en doublons : 2\n",
      "Aperçu des lignes en doubles :\n"
     ]
    },
    {
     "data": {
      "application/vnd.microsoft.datawrangler.viewer.v0+json": {
       "columns": [
        {
         "name": "index",
         "rawType": "int64",
         "type": "integer"
        },
        {
         "name": "GLOBALEVENTID",
         "rawType": "int64",
         "type": "integer"
        },
        {
         "name": "SQLDATE",
         "rawType": "int64",
         "type": "integer"
        },
        {
         "name": "GoldsteinScale",
         "rawType": "float64",
         "type": "float"
        },
        {
         "name": "NumMentions",
         "rawType": "int64",
         "type": "integer"
        },
        {
         "name": "NumSources",
         "rawType": "int64",
         "type": "integer"
        },
        {
         "name": "NumArticles",
         "rawType": "int64",
         "type": "integer"
        },
        {
         "name": "AvgTone",
         "rawType": "float64",
         "type": "float"
        },
        {
         "name": "ActionGeo_FullName",
         "rawType": "object",
         "type": "string"
        },
        {
         "name": "ActionGeo_Lat",
         "rawType": "float64",
         "type": "float"
        },
        {
         "name": "ActionGeo_Long",
         "rawType": "float64",
         "type": "float"
        },
        {
         "name": "SOURCEURL",
         "rawType": "object",
         "type": "string"
        }
       ],
       "conversionMethod": "pd.DataFrame",
       "ref": "0c6c2ca0-4804-477d-b35f-0e949ca3aea8",
       "rows": [
        [
         "462778",
         "542707439",
         "20160422",
         "7.0",
         "10",
         "1",
         "10",
         "-2.26537216828479",
         "Benin",
         "9.5",
         "2.25",
         "http://www.brecorder.com/cotton-a-textiles/185/48147/"
        ],
        [
         "462782",
         "542707439",
         "20160422",
         "7.0",
         "10",
         "1",
         "10",
         "-2.26537216828479",
         "Benin",
         "9.5",
         "2.25",
         "http://www.brecorder.com/cotton-a-textiles/185/48147/"
        ]
       ],
       "shape": {
        "columns": 11,
        "rows": 2
       }
      },
      "text/html": [
       "<div>\n",
       "<style scoped>\n",
       "    .dataframe tbody tr th:only-of-type {\n",
       "        vertical-align: middle;\n",
       "    }\n",
       "\n",
       "    .dataframe tbody tr th {\n",
       "        vertical-align: top;\n",
       "    }\n",
       "\n",
       "    .dataframe thead th {\n",
       "        text-align: right;\n",
       "    }\n",
       "</style>\n",
       "<table border=\"1\" class=\"dataframe\">\n",
       "  <thead>\n",
       "    <tr style=\"text-align: right;\">\n",
       "      <th></th>\n",
       "      <th>GLOBALEVENTID</th>\n",
       "      <th>SQLDATE</th>\n",
       "      <th>GoldsteinScale</th>\n",
       "      <th>NumMentions</th>\n",
       "      <th>NumSources</th>\n",
       "      <th>NumArticles</th>\n",
       "      <th>AvgTone</th>\n",
       "      <th>ActionGeo_FullName</th>\n",
       "      <th>ActionGeo_Lat</th>\n",
       "      <th>ActionGeo_Long</th>\n",
       "      <th>SOURCEURL</th>\n",
       "    </tr>\n",
       "  </thead>\n",
       "  <tbody>\n",
       "    <tr>\n",
       "      <th>462778</th>\n",
       "      <td>542707439</td>\n",
       "      <td>20160422</td>\n",
       "      <td>7.0</td>\n",
       "      <td>10</td>\n",
       "      <td>1</td>\n",
       "      <td>10</td>\n",
       "      <td>-2.265372</td>\n",
       "      <td>Benin</td>\n",
       "      <td>9.5</td>\n",
       "      <td>2.25</td>\n",
       "      <td>http://www.brecorder.com/cotton-a-textiles/185...</td>\n",
       "    </tr>\n",
       "    <tr>\n",
       "      <th>462782</th>\n",
       "      <td>542707439</td>\n",
       "      <td>20160422</td>\n",
       "      <td>7.0</td>\n",
       "      <td>10</td>\n",
       "      <td>1</td>\n",
       "      <td>10</td>\n",
       "      <td>-2.265372</td>\n",
       "      <td>Benin</td>\n",
       "      <td>9.5</td>\n",
       "      <td>2.25</td>\n",
       "      <td>http://www.brecorder.com/cotton-a-textiles/185...</td>\n",
       "    </tr>\n",
       "  </tbody>\n",
       "</table>\n",
       "</div>"
      ],
      "text/plain": [
       "        GLOBALEVENTID   SQLDATE  GoldsteinScale  NumMentions  NumSources  \\\n",
       "462778      542707439  20160422             7.0           10           1   \n",
       "462782      542707439  20160422             7.0           10           1   \n",
       "\n",
       "        NumArticles   AvgTone ActionGeo_FullName  ActionGeo_Lat  \\\n",
       "462778           10 -2.265372              Benin            9.5   \n",
       "462782           10 -2.265372              Benin            9.5   \n",
       "\n",
       "        ActionGeo_Long                                          SOURCEURL  \n",
       "462778            2.25  http://www.brecorder.com/cotton-a-textiles/185...  \n",
       "462782            2.25  http://www.brecorder.com/cotton-a-textiles/185...  "
      ]
     },
     "metadata": {},
     "output_type": "display_data"
    },
    {
     "name": "stdout",
     "output_type": "stream",
     "text": [
      "    - Fichier benin_mentions_20250421_221838.csv : \n"
     ]
    },
    {
     "name": "stdout",
     "output_type": "stream",
     "text": [
      "Nombre de lignes en doublons : 6996\n",
      "Aperçu des lignes en doubles :\n"
     ]
    },
    {
     "data": {
      "application/vnd.microsoft.datawrangler.viewer.v0+json": {
       "columns": [
        {
         "name": "index",
         "rawType": "int64",
         "type": "integer"
        },
        {
         "name": "GLOBALEVENTID",
         "rawType": "int64",
         "type": "integer"
        },
        {
         "name": "MentionTimeDate",
         "rawType": "int64",
         "type": "integer"
        },
        {
         "name": "MentionType",
         "rawType": "int64",
         "type": "integer"
        },
        {
         "name": "MentionSourceName",
         "rawType": "object",
         "type": "string"
        },
        {
         "name": "MentionIdentifier",
         "rawType": "object",
         "type": "string"
        },
        {
         "name": "ActionCharOffset",
         "rawType": "int64",
         "type": "integer"
        },
        {
         "name": "Confidence",
         "rawType": "int64",
         "type": "integer"
        },
        {
         "name": "MentionDocTone",
         "rawType": "float64",
         "type": "float"
        }
       ],
       "conversionMethod": "pd.DataFrame",
       "ref": "73b3dc9a-c6e0-428f-b5d4-a66c8f96b5d8",
       "rows": [
        [
         "46",
         "517495445",
         "20160303203000",
         "1",
         "nairaland.com",
         "http://www.nairaland.com/2966852/how-became-helicopter-pilot",
         "17286",
         "90",
         "1.25070001866717"
        ],
        [
         "178",
         "1152035465",
         "20240117041500",
         "1",
         "newsverge.com",
         "https://newsverge.com/2024/01/16/obaseki-to-host-south-south-governors-in-edo/",
         "398",
         "90",
         "0.0"
        ],
        [
         "179",
         "1152035465",
         "20240117041500",
         "1",
         "newsverge.com",
         "https://newsverge.com/2024/01/16/obaseki-to-host-south-south-governors-in-edo/",
         "398",
         "90",
         "0.0"
        ],
        [
         "180",
         "1152056639",
         "20240117070000",
         "1",
         "thenationonlineng.net",
         "https://thenationonlineng.net/southsouth-governors-meet-in-benin-thursday/",
         "394",
         "90",
         "0.0"
        ],
        [
         "181",
         "1152056639",
         "20240117070000",
         "1",
         "thenationonlineng.net",
         "https://thenationonlineng.net/southsouth-governors-meet-in-benin-thursday/",
         "394",
         "90",
         "0.0"
        ]
       ],
       "shape": {
        "columns": 8,
        "rows": 5
       }
      },
      "text/html": [
       "<div>\n",
       "<style scoped>\n",
       "    .dataframe tbody tr th:only-of-type {\n",
       "        vertical-align: middle;\n",
       "    }\n",
       "\n",
       "    .dataframe tbody tr th {\n",
       "        vertical-align: top;\n",
       "    }\n",
       "\n",
       "    .dataframe thead th {\n",
       "        text-align: right;\n",
       "    }\n",
       "</style>\n",
       "<table border=\"1\" class=\"dataframe\">\n",
       "  <thead>\n",
       "    <tr style=\"text-align: right;\">\n",
       "      <th></th>\n",
       "      <th>GLOBALEVENTID</th>\n",
       "      <th>MentionTimeDate</th>\n",
       "      <th>MentionType</th>\n",
       "      <th>MentionSourceName</th>\n",
       "      <th>MentionIdentifier</th>\n",
       "      <th>ActionCharOffset</th>\n",
       "      <th>Confidence</th>\n",
       "      <th>MentionDocTone</th>\n",
       "    </tr>\n",
       "  </thead>\n",
       "  <tbody>\n",
       "    <tr>\n",
       "      <th>46</th>\n",
       "      <td>517495445</td>\n",
       "      <td>20160303203000</td>\n",
       "      <td>1</td>\n",
       "      <td>nairaland.com</td>\n",
       "      <td>http://www.nairaland.com/2966852/how-became-he...</td>\n",
       "      <td>17286</td>\n",
       "      <td>90</td>\n",
       "      <td>1.2507</td>\n",
       "    </tr>\n",
       "    <tr>\n",
       "      <th>178</th>\n",
       "      <td>1152035465</td>\n",
       "      <td>20240117041500</td>\n",
       "      <td>1</td>\n",
       "      <td>newsverge.com</td>\n",
       "      <td>https://newsverge.com/2024/01/16/obaseki-to-ho...</td>\n",
       "      <td>398</td>\n",
       "      <td>90</td>\n",
       "      <td>0.0000</td>\n",
       "    </tr>\n",
       "    <tr>\n",
       "      <th>179</th>\n",
       "      <td>1152035465</td>\n",
       "      <td>20240117041500</td>\n",
       "      <td>1</td>\n",
       "      <td>newsverge.com</td>\n",
       "      <td>https://newsverge.com/2024/01/16/obaseki-to-ho...</td>\n",
       "      <td>398</td>\n",
       "      <td>90</td>\n",
       "      <td>0.0000</td>\n",
       "    </tr>\n",
       "    <tr>\n",
       "      <th>180</th>\n",
       "      <td>1152056639</td>\n",
       "      <td>20240117070000</td>\n",
       "      <td>1</td>\n",
       "      <td>thenationonlineng.net</td>\n",
       "      <td>https://thenationonlineng.net/southsouth-gover...</td>\n",
       "      <td>394</td>\n",
       "      <td>90</td>\n",
       "      <td>0.0000</td>\n",
       "    </tr>\n",
       "    <tr>\n",
       "      <th>181</th>\n",
       "      <td>1152056639</td>\n",
       "      <td>20240117070000</td>\n",
       "      <td>1</td>\n",
       "      <td>thenationonlineng.net</td>\n",
       "      <td>https://thenationonlineng.net/southsouth-gover...</td>\n",
       "      <td>394</td>\n",
       "      <td>90</td>\n",
       "      <td>0.0000</td>\n",
       "    </tr>\n",
       "  </tbody>\n",
       "</table>\n",
       "</div>"
      ],
      "text/plain": [
       "     GLOBALEVENTID  MentionTimeDate  MentionType      MentionSourceName  \\\n",
       "46       517495445   20160303203000            1          nairaland.com   \n",
       "178     1152035465   20240117041500            1          newsverge.com   \n",
       "179     1152035465   20240117041500            1          newsverge.com   \n",
       "180     1152056639   20240117070000            1  thenationonlineng.net   \n",
       "181     1152056639   20240117070000            1  thenationonlineng.net   \n",
       "\n",
       "                                     MentionIdentifier  ActionCharOffset  \\\n",
       "46   http://www.nairaland.com/2966852/how-became-he...             17286   \n",
       "178  https://newsverge.com/2024/01/16/obaseki-to-ho...               398   \n",
       "179  https://newsverge.com/2024/01/16/obaseki-to-ho...               398   \n",
       "180  https://thenationonlineng.net/southsouth-gover...               394   \n",
       "181  https://thenationonlineng.net/southsouth-gover...               394   \n",
       "\n",
       "     Confidence  MentionDocTone  \n",
       "46           90          1.2507  \n",
       "178          90          0.0000  \n",
       "179          90          0.0000  \n",
       "180          90          0.0000  \n",
       "181          90          0.0000  "
      ]
     },
     "metadata": {},
     "output_type": "display_data"
    }
   ],
   "source": [
    "duplicate_data_by_table = {}    # Stocker les lignes en double\n",
    "    \n",
    "for prefix, data in dfs.items():\n",
    "    df = data[\"df\"]\n",
    "    file_name = data[\"file_name\"]\n",
    " \n",
    "    try:\n",
    "        print(f\"    - Fichier {file_name} : \")\n",
    "        \n",
    "        # Affichage des doublons    \n",
    "        duplicate_rows = df[df.duplicated(keep=False)]\n",
    "        print(f\"Nombre de lignes en doublons : {len(duplicate_rows)}\")\n",
    "\n",
    "        # Affichage des lignes en doubles\n",
    "        if not duplicate_rows.empty:\n",
    "            duplicate_data_by_table[prefix] = duplicate_rows\n",
    "            print(\"Aperçu des lignes en doubles :\")\n",
    "            display(duplicate_rows.head())\n",
    "            \n",
    "    except Exception as e:\n",
    "        print(f\"Erreur de l'affichage des lignes en doubles de {file_name} :\", e)"
   ]
  },
  {
   "cell_type": "code",
   "execution_count": 53,
   "id": "4cdb3569",
   "metadata": {},
   "outputs": [
    {
     "name": "stdout",
     "output_type": "stream",
     "text": [
      "\n",
      " Nettoyage du fichier : benin_events_20250421_221827.csv\n",
      " Lignes supprimées (valeurs manquantes) : 3660 (reste 464982)\n",
      " Lignes supprimées (doublons) : 1 (reste 464981)\n",
      " Fichier sauvegardé après nettoyage : benin_events_20250421_221827_cleaned.csv\n",
      "\n",
      " Nettoyage du fichier : benin_mentions_20250421_221838.csv\n",
      " Lignes supprimées (valeurs manquantes) : 90 (reste 796614)\n",
      " Lignes supprimées (doublons) : 3495 (reste 793119)\n",
      " Fichier sauvegardé après nettoyage : benin_mentions_20250421_221838_cleaned.csv\n"
     ]
    }
   ],
   "source": [
    "for prefix, data in dfs.items():\n",
    "    df = data[\"df\"]\n",
    "    file_name = data[\"file_name\"]\n",
    "\n",
    "    try:\n",
    "        print(f\"\\n Nettoyage du fichier : {file_name}\")\n",
    "\n",
    "        # Suppression des valeurs manquantes\n",
    "        original_len = len(df)\n",
    "        df = df.dropna()\n",
    "        print(f\" Lignes supprimées (valeurs manquantes) : {original_len - len(df)} (reste {len(df)})\")\n",
    "\n",
    "        # Suppression des doublons\n",
    "        original_len = len(df)\n",
    "        df = df.drop_duplicates()\n",
    "        print(f\" Lignes supprimées (doublons) : {original_len - len(df)} (reste {len(df)})\")\n",
    "\n",
    "        # Définir nom du fichier nettoyé\n",
    "        base_name, ext = os.path.splitext(file_name)  # séparer nom et extension\n",
    "        cleaned_file_name = f\"{base_name}_cleaned{ext}\"\n",
    "\n",
    "        # Destination des fichiers après nettoyage\n",
    "        cleaned_output_path = os.path.join(cleaned_csv_dir, cleaned_file_name)\n",
    "        \n",
    "        # Sauvegarde du fichier nettoyé\n",
    "        df.to_csv(cleaned_output_path, index=False, encoding=\"utf-8\")\n",
    "        print(f\" Fichier sauvegardé après nettoyage : {os.path.basename(cleaned_output_path)}\")\n",
    "\n",
    "    except Exception as e:\n",
    "        print(f\" Erreur lors du nettoyage de {file_name} : {e}\")\n",
    "        continue"
   ]
  },
  {
   "cell_type": "code",
   "execution_count": 54,
   "id": "76cfda1b",
   "metadata": {},
   "outputs": [
    {
     "name": "stdout",
     "output_type": "stream",
     "text": [
      " Fichier chargé benin_mentions_20250421_221838_cleaned.csv : (793119 lignes)\n",
      "\n",
      " Types des colonnes avant modification :\n",
      "GLOBALEVENTID          int64\n",
      "MentionTimeDate        int64\n",
      "MentionType            int64\n",
      "MentionSourceName     object\n",
      "MentionIdentifier     object\n",
      "ActionCharOffset       int64\n",
      "Confidence             int64\n",
      "MentionDocTone       float64\n",
      "dtype: object\n",
      " Fichier chargé benin_events_20250421_221827_cleaned.csv : (464981 lignes)\n",
      "\n",
      " Types des colonnes avant modification :\n",
      "GLOBALEVENTID           int64\n",
      "SQLDATE                 int64\n",
      "GoldsteinScale        float64\n",
      "NumMentions             int64\n",
      "NumSources              int64\n",
      "NumArticles             int64\n",
      "AvgTone               float64\n",
      "ActionGeo_FullName     object\n",
      "ActionGeo_Lat         float64\n",
      "ActionGeo_Long        float64\n",
      "SOURCEURL              object\n",
      "dtype: object\n"
     ]
    }
   ],
   "source": [
    "# Liste des fichiers dans le dossier cleaned_csv_dir\n",
    "dfs = {}    # Dictionnaire pour stocker les DataFrames _cleaned\n",
    "\n",
    "for file_name in os.listdir(cleaned_csv_dir):\n",
    "    \n",
    "    # Vérification si c'est un fichier CSV\n",
    "    if file_name.lower().endswith('.csv'):\n",
    "        input_path = os.path.join(cleaned_csv_dir, file_name)\n",
    "        \n",
    "        try:\n",
    "            try:\n",
    "                # Chargement du DataFrame\n",
    "                df = pd.read_csv(input_path)\n",
    "                dfs[file_name] = df\n",
    "                print(f\" Fichier chargé {file_name} : ({len(df)} lignes)\")\n",
    "            except Exception as e:\n",
    "                print(f\"Erreur lecture {file_name} : {e}\")\n",
    "                \n",
    "            # Afficher les types des colonnes avant modification\n",
    "            print(\"\\n Types des colonnes avant modification :\")\n",
    "            print(df.dtypes)\n",
    "\n",
    "        except Exception as e:\n",
    "            print(f\" Erreur pour l'affichage du type des colonnes le fichier {file_name} : {e}\")"
   ]
  },
  {
   "cell_type": "code",
   "execution_count": 22,
   "id": "424437d5",
   "metadata": {},
   "outputs": [],
   "source": [
    "# Définir le dossier de sauvegarde des fichiers traités\n",
    "csv_output = \"/home/pionner02/Pionner02 UlChris-Project/data\""
   ]
  },
  {
   "cell_type": "code",
   "execution_count": null,
   "id": "5e681c4f",
   "metadata": {},
   "outputs": [
    {
     "name": "stdout",
     "output_type": "stream",
     "text": [
      "\n",
      " Formatage pour le fichier benin_mentions_20250421_221838_cleaned.csv \n",
      " Colonne 'MentionTimeDate' formatée au format YYYY-MM-DD HH:MM:SS.\n",
      " Fichier sauvegardé après traitement dans : benin_mentions_20250421_221838_cleaned_treated.csv\n",
      "\n",
      " Formatage pour le fichier benin_events_20250421_221827_cleaned.csv \n",
      " Colonne 'SQLDATE' formatée au format YYYY-MM-DD.\n",
      " Fichier sauvegardé après traitement dans : benin_events_20250421_221827_cleaned_treated.csv\n"
     ]
    }
   ],
   "source": [
    "# Liste des fichiers dans le dossier cleaned_csv_dir\n",
    "for file_name, df in dfs.items():\n",
    "        \n",
    "        print(f\"\\n Formatage pour le fichier {file_name} \")\n",
    "        try:\n",
    "            # Formatage pour le fichier contenant \"benin_events\"\n",
    "            if \"benin_events\" in file_name:\n",
    "                if \"SQLDATE\" in df.columns:\n",
    "                    df[\"SQLDATE\"] = pd.to_datetime(df[\"SQLDATE\"], format='%Y%m%d', errors='coerce').dt.strftime(\"%Y-%m-%d\")\n",
    "                    print(f\" Colonne 'SQLDATE' formatée au format YYYY-MM-DD.\")\n",
    "\n",
    "            # Formatage pour le fichier contenant \"benin_mentions\"\n",
    "            if \"benin_mentions\" in file_name:\n",
    "                if \"MentionTimeDate\" in df.columns:\n",
    "                    df[\"MentionTimeDate\"] = pd.to_datetime(df[\"MentionTimeDate\"], format='%Y%m%d%H%M%S', errors='coerce').dt.strftime(\"%Y-%m-%d %H:%M:%S\")\n",
    "                    print(f\" Colonne 'MentionTimeDate' formatée au format YYYY-MM-DD HH:MM:SS.\")\n",
    "\n",
    "            # Définir nom du fichier traité\n",
    "            base_name, ext = os.path.splitext(file_name)  # séparer nom et extension\n",
    "            csv_file_name = f\"{base_name}_treated{ext}\"\n",
    "\n",
    "            # Destination des fichiers après traitement\n",
    "            csv_output_path = os.path.join(csv_output, csv_file_name)\n",
    "            \n",
    "            # Sauvegarde des fichiers traités\n",
    "            df.to_csv(csv_output_path, index=False, encoding=\"utf-8\")\n",
    "            print(f\" Fichier sauvegardé après traitement dans : {os.path.basename(csv_output_path)}\")\n",
    "\n",
    "        except Exception as e:\n",
    "            print(f\" Erreur lors du traitement de {file_name} : {e}\")\n"
   ]
  },
  {
   "cell_type": "code",
   "execution_count": 57,
   "id": "f106a5e6",
   "metadata": {},
   "outputs": [
    {
     "name": "stdout",
     "output_type": "stream",
     "text": [
      "\n",
      " Types des colonnes après modification dans benin_events_20250421_221827_cleaned_treated.csv : \n",
      " - SQLDATE : object\n",
      "\n",
      " Types des colonnes après modification dans benin_mentions_20250421_221838_cleaned_treated.csv : \n",
      " - MentionTimeDate : object\n"
     ]
    }
   ],
   "source": [
    "for file_name in os.listdir(csv_output):\n",
    "    if file_name.lower().endswith('.csv'):\n",
    "        file_path = os.path.join(csv_output, file_name)\n",
    "        \n",
    "        try:\n",
    "            # Chargement du DataFrame\n",
    "            df = pd.read_csv(file_path)\n",
    "            if 'events' in file_name or 'mentions' in file_name:\n",
    "                print(f\"\\n Types des colonnes après modification dans {file_name} : \")\n",
    "                cols_to_check = [\"SQLDATE\", \"MentionTimeDate\"]\n",
    "            \n",
    "            # Vérification du type des colonnes après modification\n",
    "            for col in cols_to_check:\n",
    "                if col in df.columns:\n",
    "                    print(f\" - {col} : {df[col].dtype}\")\n",
    "\n",
    "        except Exception as e:\n",
    "            print(f\" Erreur de lecture du fichier {file_name} : {e}\")\n"
   ]
  },
  {
   "cell_type": "code",
   "execution_count": 17,
   "id": "ea64ba38",
   "metadata": {},
   "outputs": [
    {
     "name": "stdout",
     "output_type": "stream",
     "text": [
      " La base de données sera sauvegardée dans : /home/pionner02/Pionner02 UlChris-Project/data\n"
     ]
    }
   ],
   "source": [
    "# Définir le dossier de destination de la base de données\n",
    "output_db_dir = \"/home/pionner02/Pionner02 UlChris-Project/data\"\n",
    "\n",
    "print(f\" La base de données sera sauvegardée dans : {output_db_dir}\")"
   ]
  },
  {
   "cell_type": "code",
   "execution_count": 23,
   "id": "8f990d2e",
   "metadata": {},
   "outputs": [
    {
     "name": "stdout",
     "output_type": "stream",
     "text": [
      "Base de données et tables créées avec succès.\n"
     ]
    }
   ],
   "source": [
    "import sqlite3\n",
    "\n",
    "# Chemin vers le fichier SQLite qui contiendra la base de données\n",
    "db_path = os.path.join(output_db_dir, 'gdelt_benin.db')\n",
    "\n",
    "try:\n",
    "    # Connexion à la base de données SQLite\n",
    "    conn = sqlite3.connect(db_path)\n",
    "\n",
    "    # Création d’un curseur pour exécuter des commandes SQL\n",
    "    cursor = conn.cursor()\n",
    "\n",
    "    # Optimisations de la base de données SQLite pour de meilleures performances\n",
    "    \n",
    "    cursor.execute(\"PRAGMA journal_mode = OFF;\")  # Désactiver les journaux\n",
    "    cursor.execute(\"PRAGMA synchronous = OFF;\")  # Réduire la synchronisation (plus rapide mais moins sûr)\n",
    "    cursor.execute(\"PRAGMA cache_size = 10000;\")  # Augmenter la taille du cache\n",
    "    cursor.execute(\"PRAGMA temp_store = MEMORY;\")  # Utiliser la mémoire pour les tables temporaires\n",
    "    cursor.execute(\"PRAGMA foreign_keys = OFF;\") # Désactiver les clés étrangères pendant les insertions massives pour accélérer le processus\n",
    "    \n",
    "        \n",
    "    # Supprimer les tables si elles existent et les recréer \n",
    "\n",
    "    cursor.executescript(\"\"\"\n",
    "        -- Supprimer les tables existantes si elles existent\n",
    "        DROP TABLE IF EXISTS events;\n",
    "        DROP TABLE IF EXISTS mentions;\n",
    "\n",
    "        -- Créer la table events\n",
    "        CREATE TABLE events (\n",
    "            GLOBALEVENTID INTEGER PRIMARY KEY,         -- ID unique de l'événement\n",
    "            SQLDATE INTEGER,                           -- Date au format YYYYMMDD\n",
    "            GoldsteinScale REAL,                       -- Intensité de l’événement (échelle Goldstein)\n",
    "            NumMentions INTEGER,                       -- Nombre total de mentions de l’événement dans les médias\n",
    "            NumSources INTEGER,                        -- Nombre de sources distinctes mentionnant l’événement\n",
    "            NumArticles INTEGER,                       -- Nombre d’articles différents mentionnant l’événement\n",
    "            AvgTone REAL,                              -- Tonalité moyenne de l’événement\n",
    "            ActionGeo_FullName TEXT,                   -- Nom complet de la localisation de l’action\n",
    "            ActionGeo_Lat REAL,                        -- Latitude de la localisation de l’action\n",
    "            ActionGeo_Long REAL,                       -- Longitude de la localisation de l’action\n",
    "            SOURCEURL TEXT                             -- URL de la source originale\n",
    "            );\n",
    "\n",
    "        -- Créer la table mentions\n",
    "        CREATE TABLE mentions (\n",
    "            GLOBALEVENTID INTEGER,                      -- Référence à l’ID de l'événement\n",
    "            MentionTimeDate INTEGER,                    -- Timestamp de la mention\n",
    "            MentionSourceName TEXT,                     -- Nom de la source de la mention\n",
    "            MentionIdentifier TEXT PRIMARY KEY,         -- Identifiant unique de la mention\n",
    "            ActionCharOffset INTEGER,                   -- Position du mot déclencheur de l’action dans le texte\n",
    "            Confidence INTEGER,                         -- Score de confiance de la mention)\n",
    "            MentionDocTone REAL,                        -- Tonalité du document de mention\n",
    "            FOREIGN KEY (GLOBALEVENTID) REFERENCES events(GLOBALEVENTID)  -- Clé étrangère liant la table mentions à la table events\n",
    "            );\n",
    "        \"\"\")\n",
    "        \n",
    "        # Message de confirmation pour indiquer que la base de données et les tables sont créées\n",
    "    print(\"Base de données et tables créées avec succès.\")\n",
    "        \n",
    "        # Valider création des tables\n",
    "    conn.commit()\n",
    "\n",
    "except sqlite3.OperationalError as e:\n",
    "    # Message en cas d'échec du processus\n",
    "    print(f\" Erreur lor de la création de la base de données : {e}\")"
   ]
  },
  {
   "cell_type": "code",
   "execution_count": 24,
   "id": "c38f9943",
   "metadata": {},
   "outputs": [
    {
     "name": "stdout",
     "output_type": "stream",
     "text": [
      " Fichier le plus récent trouvé dans /home/pionner02/Pionner02 UlChris-Project/data pour 'benin_events' : benin_events_20250421_221827_cleaned_treated.csv\n",
      " Fichier le plus récent trouvé dans /home/pionner02/Pionner02 UlChris-Project/data pour 'benin_mentions' : benin_mentions_20250421_221838_cleaned_treated.csv\n"
     ]
    }
   ],
   "source": [
    "# Nouveau dictionnaire pour les fichiers _treated les plus récents\n",
    "treated_files_dict = {}\n",
    "\n",
    "try:\n",
    "    for prefix in ['benin_events', \n",
    "                   'benin_mentions'\n",
    "                   ]:\n",
    "        latest_file = get_latest_file_by_keyword(prefix, csv_output, \".csv\")\n",
    "        if latest_file:\n",
    "            treated_files_dict[prefix] = os.path.join(csv_output, latest_file)\n",
    "        \n",
    "except Exception as e:\n",
    "    print(f\" Une erreur est survenue pendant la recherche des fichiers traités : {e}\")"
   ]
  },
  {
   "cell_type": "code",
   "execution_count": 25,
   "id": "379da08f",
   "metadata": {},
   "outputs": [
    {
     "name": "stdout",
     "output_type": "stream",
     "text": [
      " Chargement de /home/pionner02/Pionner02 UlChris-Project/data/benin_events_20250421_221827_cleaned_treated.csv dans la table 'events'...\n"
     ]
    },
    {
     "name": "stdout",
     "output_type": "stream",
     "text": [
      "Nombre de lignes dans events après insertion : 464981\n",
      " Chargement de /home/pionner02/Pionner02 UlChris-Project/data/benin_mentions_20250421_221838_cleaned_treated.csv dans la table 'mentions'...\n",
      "Nombre de lignes dans mentions après insertion : 793119\n",
      "Fin de la transaction avec succès.\n"
     ]
    }
   ],
   "source": [
    "import pandas as pd\n",
    "\n",
    "try:\n",
    "    # Commencer une transaction pour les insertions massives\n",
    "    conn.execute(\"BEGIN\")\n",
    "\n",
    "    # Charger les CSV dans les tables\n",
    "    for table_name in [\n",
    "                       'events', \n",
    "                       'mentions' \n",
    "                      ]:\n",
    "        \n",
    "        # Utiliser le fichier le plus récent pour chaque table\n",
    "        csv_file = treated_files_dict.get(f'benin_{table_name}')\n",
    "        \n",
    "        # Si un fichier est manquant pour une table, passer à la table suivante\n",
    "        if not csv_file:\n",
    "            print(f\"Fichier manquant pour {table_name}.\")\n",
    "            continue  # Passer à la table suivante si le fichier est manquant\n",
    "        \n",
    "        print(f\" Chargement de {csv_file} dans la table '{table_name}'...\")\n",
    "\n",
    "        try:\n",
    "            # Lire le CSV dans un DataFrame\n",
    "            df = pd.read_csv(csv_file)\n",
    "            \n",
    "            # Vérification basique si le fichier est vide\n",
    "            if df.empty:\n",
    "                print(f\" Le fichier {csv_file} est vide. Aucune donnée insérée.\")\n",
    "                continue\n",
    "            \n",
    "            # Insérer dans SQLite en écrasant les anciennes données\n",
    "            df.to_sql(table_name, conn, if_exists='replace', index=False)\n",
    "            \n",
    "            # Vérification du nombre de lignes après insertion\n",
    "            cursor.execute(f\"SELECT COUNT(*) FROM {table_name}\")\n",
    "            count = cursor.fetchone()[0]\n",
    "            print(f\"Nombre de lignes dans {table_name} après insertion : {count}\")\n",
    "        \n",
    "        # Gestion des erreurs lors du chargement des fichiers\n",
    "        except Exception as e:\n",
    "            print(f\" Erreur lors du chargement de {csv_file} dans {table_name}: {e}\")\n",
    "            continue # Passer à la table suivante en cas d'erreur\n",
    "\n",
    "    # Finaliser la transaction\n",
    "    conn.commit()\n",
    "    print(\"Fin de la transaction avec succès.\")\n",
    "\n",
    "except Exception as e:\n",
    "    conn.rollback()\n",
    "    print(f\" Erreur pendant la transaction, rollback effectué : {e}\")"
   ]
  },
  {
   "cell_type": "code",
   "execution_count": null,
   "id": "211097c7",
   "metadata": {},
   "outputs": [
    {
     "name": "stdout",
     "output_type": "stream",
     "text": [
      "Index créés avec succès.\n",
      "Base de données remplie et optimisée avec succès.\n"
     ]
    }
   ],
   "source": [
    "cursor.execute(\"PRAGMA journal_mode = WAL;\") # Réactiver les journaux\n",
    "cursor.execute(\"PRAGMA synchronous = NORMAL;\") # Réactiver la synchronisation\n",
    "cursor.execute(\"PRAGMA foreign_keys = ON;\") # Réactiver les clés étrangères\n",
    "\n",
    "# Exécution des requêtes SQL pour créer des index supplémentaires\n",
    "cursor.executescript(\"\"\"\n",
    "CREATE INDEX IF NOT EXISTS idx_events_date ON events(SQLDATE);                        -- Index sur la colonne SQLDATE de la table events pour accélérer les requêtes basées sur la SQLDATE\n",
    "\n",
    "CREATE INDEX IF NOT EXISTS idx_mentions_event ON mentions(GLOBALEVENTID);             -- Index sur la colonne GLOBALEVENTID de la table mentions pour accélérer les jointures avec events\n",
    "\n",
    "CREATE INDEX IF NOT EXISTS idx_mentions_mentiontimedate ON mentions(MentionTimeDate); -- Index sur la colonne MentionTimeDate de la table mentions pour accélérer les requêtes basées sur la MentionTimeDate\n",
    "\n",
    "CREATE INDEX IF NOT EXISTS idx_events_actiongeo ON events(ActionGeo_FullName);  -- Index sur la colonne ActionGeo_FullName de la table events pour accélérer les recherches par localisation de l'action\n",
    "                     \n",
    "CREATE INDEX IF NOT EXISTS idx_mentions_source ON mentions(MentionSourceName);  -- Index sur la colonne MentionSourceName de la table mentions pour accélérer les recherches par nom de source\n",
    "\n",
    "\"\"\")\n",
    "\n",
    "# Affichage d'un message pour indiquer que les index ont été créés avec succès\n",
    "print(\"Index créés avec succès.\")\n",
    "\n",
    "# Valider les modifications\n",
    "conn.commit()\n",
    "print(\"Base de données remplie et optimisée avec succès.\")\n",
    "\n",
    "# Fermeture de la connexion à la base de données SQLite après avoir terminé les opérations\n",
    "conn.close()\n",
    "print(\"\\n Connexion à la base fermée.\")\n"
   ]
  },
  {
   "cell_type": "code",
   "execution_count": null,
   "id": "7b242d38",
   "metadata": {},
   "outputs": [
    {
     "name": "stdout",
     "output_type": "stream",
     "text": [
      " Connexion réussie à : /home/pionner02/Pionner02 UlChris-Project/data/gdelt_benin.db\n",
      " Tables disponibles :\n"
     ]
    },
    {
     "data": {
      "application/vnd.microsoft.datawrangler.viewer.v0+json": {
       "columns": [
        {
         "name": "index",
         "rawType": "int64",
         "type": "integer"
        },
        {
         "name": "name",
         "rawType": "object",
         "type": "string"
        }
       ],
       "conversionMethod": "pd.DataFrame",
       "ref": "8aeb8e6d-b275-4887-97c7-6faa285e1c40",
       "rows": [
        [
         "0",
         "events"
        ],
        [
         "1",
         "mentions"
        ]
       ],
       "shape": {
        "columns": 1,
        "rows": 2
       }
      },
      "text/html": [
       "<div>\n",
       "<style scoped>\n",
       "    .dataframe tbody tr th:only-of-type {\n",
       "        vertical-align: middle;\n",
       "    }\n",
       "\n",
       "    .dataframe tbody tr th {\n",
       "        vertical-align: top;\n",
       "    }\n",
       "\n",
       "    .dataframe thead th {\n",
       "        text-align: right;\n",
       "    }\n",
       "</style>\n",
       "<table border=\"1\" class=\"dataframe\">\n",
       "  <thead>\n",
       "    <tr style=\"text-align: right;\">\n",
       "      <th></th>\n",
       "      <th>name</th>\n",
       "    </tr>\n",
       "  </thead>\n",
       "  <tbody>\n",
       "    <tr>\n",
       "      <th>0</th>\n",
       "      <td>events</td>\n",
       "    </tr>\n",
       "    <tr>\n",
       "      <th>1</th>\n",
       "      <td>mentions</td>\n",
       "    </tr>\n",
       "  </tbody>\n",
       "</table>\n",
       "</div>"
      ],
      "text/plain": [
       "       name\n",
       "0    events\n",
       "1  mentions"
      ]
     },
     "metadata": {},
     "output_type": "display_data"
    },
    {
     "name": "stdout",
     "output_type": "stream",
     "text": [
      "\n",
      " Prévisualisation de la table 'events' (10 premières lignes) :\n"
     ]
    },
    {
     "data": {
      "application/vnd.microsoft.datawrangler.viewer.v0+json": {
       "columns": [
        {
         "name": "index",
         "rawType": "int64",
         "type": "integer"
        },
        {
         "name": "GLOBALEVENTID",
         "rawType": "int64",
         "type": "integer"
        },
        {
         "name": "SQLDATE",
         "rawType": "object",
         "type": "string"
        },
        {
         "name": "GoldsteinScale",
         "rawType": "float64",
         "type": "float"
        },
        {
         "name": "NumMentions",
         "rawType": "int64",
         "type": "integer"
        },
        {
         "name": "NumSources",
         "rawType": "int64",
         "type": "integer"
        },
        {
         "name": "NumArticles",
         "rawType": "int64",
         "type": "integer"
        },
        {
         "name": "AvgTone",
         "rawType": "float64",
         "type": "float"
        },
        {
         "name": "ActionGeo_FullName",
         "rawType": "object",
         "type": "string"
        },
        {
         "name": "ActionGeo_Lat",
         "rawType": "float64",
         "type": "float"
        },
        {
         "name": "ActionGeo_Long",
         "rawType": "float64",
         "type": "float"
        },
        {
         "name": "SOURCEURL",
         "rawType": "object",
         "type": "string"
        }
       ],
       "conversionMethod": "pd.DataFrame",
       "ref": "90215a21-f880-4a2c-ba9e-0e41a81975fc",
       "rows": [
        [
         "0",
         "1238864555",
         "2025-04-19",
         "-10.0",
         "15",
         "2",
         "15",
         "-9.74663859968519",
         "Koudou, Benin (general), Benin",
         "10.8945",
         "1.16328",
         "https://guardian.ng/news/suspected-jihadists-kill-eight-soldiers-in-benin/"
        ],
        [
         "1",
         "1239269408",
         "2025-04-21",
         "-10.0",
         "16",
         "2",
         "16",
         "-3.94265232974911",
         "Benin",
         "9.5",
         "2.25",
         "https://www.aljazeera.net/news/2025/4/21/%D8%AA%D9%86%D8%B8%D9%8A%D9%85-%D8%A7%D9%84%D9%82%D8%A7%D8%B9%D8%AF%D8%A9-%D9%8A%D8%AA%D8%A8%D9%86%D9%89-%D8%A7%D9%84%D9%87%D8%AC%D9%85%D8%A7%D8%AA-%D8%A7%D9%84%D8%AA%D9%8A"
        ],
        [
         "2",
         "1117208340",
         "2023-07-26",
         "-2.0",
         "30",
         "3",
         "30",
         "-4.84848484848484",
         "Benin",
         "9.5",
         "2.25",
         "https://www.varmatin.com/faits-divers/qui-etait-la-femme-retrouvee-morte-dans-un-congelateur-dans-lessonne-863407"
        ],
        [
         "3",
         "1117210338",
         "2023-07-26",
         "3.4",
         "12",
         "1",
         "12",
         "4.40340909090909",
         "Benin",
         "9.5",
         "2.25",
         "https://www.prnewswire.com/news-releases/nexgen-packaging-and-arise-iip-join-forces-to-drive-the-african-textile--apparel-industry-forward-301885949.html"
        ],
        [
         "4",
         "1124580946",
         "2023-09-03",
         "3.4",
         "12",
         "2",
         "12",
         "2.53582130895722",
         "Benin",
         "9.5",
         "2.25",
         "https://www.naijanews.com/2023/09/03/edo-obaseki-speaks-on-pdps-victory-in-lg-election/"
        ],
        [
         "5",
         "1172759021",
         "2024-04-29",
         "0.0",
         "14",
         "2",
         "14",
         "3.38440860825362",
         "Nigeria",
         "10.0",
         "8.0",
         "https://promptnewsonline.com/gov-obaseki-approves-n70000-minimum-wage-for-workers/"
        ],
        [
         "6",
         "1061506981",
         "2022-09-04",
         "7.4",
         "12",
         "2",
         "12",
         "-0.96618357487922",
         "Benin",
         "9.5",
         "2.25",
         "https://www.bignewsnetwork.com/news/272721277/dozens-of-travelers-abducted-by-gunmen-in-southern-nigeria"
        ],
        [
         "7",
         "1061507258",
         "2022-09-04",
         "0.0",
         "12",
         "2",
         "12",
         "-0.96618357487922",
         "Benin",
         "9.5",
         "2.25",
         "https://www.bignewsnetwork.com/news/272721277/dozens-of-travelers-abducted-by-gunmen-in-southern-nigeria"
        ],
        [
         "8",
         "1068801089",
         "2022-10-23",
         "3.4",
         "9",
         "1",
         "9",
         "7.22610722610722",
         "Benin",
         "9.5",
         "2.25",
         "http://nigerianobservernews.com/2022/10/conferment-of-cfr-uzebu-community-congratulates-oba-ewuare-ii-thank-president-buhari/"
        ],
        [
         "9",
         "1187563634",
         "2024-07-17",
         "2.8",
         "16",
         "1",
         "16",
         "-0.3875968992248",
         "Benin",
         "9.5",
         "2.25",
         "http://malijet.com/actualite-sur-afrique/292917-le-benin-convoque-l%E2%80%99ambassadeur-du-burkina-apres-les-propos-du-c.html"
        ]
       ],
       "shape": {
        "columns": 11,
        "rows": 10
       }
      },
      "text/html": [
       "<div>\n",
       "<style scoped>\n",
       "    .dataframe tbody tr th:only-of-type {\n",
       "        vertical-align: middle;\n",
       "    }\n",
       "\n",
       "    .dataframe tbody tr th {\n",
       "        vertical-align: top;\n",
       "    }\n",
       "\n",
       "    .dataframe thead th {\n",
       "        text-align: right;\n",
       "    }\n",
       "</style>\n",
       "<table border=\"1\" class=\"dataframe\">\n",
       "  <thead>\n",
       "    <tr style=\"text-align: right;\">\n",
       "      <th></th>\n",
       "      <th>GLOBALEVENTID</th>\n",
       "      <th>SQLDATE</th>\n",
       "      <th>GoldsteinScale</th>\n",
       "      <th>NumMentions</th>\n",
       "      <th>NumSources</th>\n",
       "      <th>NumArticles</th>\n",
       "      <th>AvgTone</th>\n",
       "      <th>ActionGeo_FullName</th>\n",
       "      <th>ActionGeo_Lat</th>\n",
       "      <th>ActionGeo_Long</th>\n",
       "      <th>SOURCEURL</th>\n",
       "    </tr>\n",
       "  </thead>\n",
       "  <tbody>\n",
       "    <tr>\n",
       "      <th>0</th>\n",
       "      <td>1238864555</td>\n",
       "      <td>2025-04-19</td>\n",
       "      <td>-10.0</td>\n",
       "      <td>15</td>\n",
       "      <td>2</td>\n",
       "      <td>15</td>\n",
       "      <td>-9.746639</td>\n",
       "      <td>Koudou, Benin (general), Benin</td>\n",
       "      <td>10.8945</td>\n",
       "      <td>1.16328</td>\n",
       "      <td>https://guardian.ng/news/suspected-jihadists-k...</td>\n",
       "    </tr>\n",
       "    <tr>\n",
       "      <th>1</th>\n",
       "      <td>1239269408</td>\n",
       "      <td>2025-04-21</td>\n",
       "      <td>-10.0</td>\n",
       "      <td>16</td>\n",
       "      <td>2</td>\n",
       "      <td>16</td>\n",
       "      <td>-3.942652</td>\n",
       "      <td>Benin</td>\n",
       "      <td>9.5000</td>\n",
       "      <td>2.25000</td>\n",
       "      <td>https://www.aljazeera.net/news/2025/4/21/%D8%A...</td>\n",
       "    </tr>\n",
       "    <tr>\n",
       "      <th>2</th>\n",
       "      <td>1117208340</td>\n",
       "      <td>2023-07-26</td>\n",
       "      <td>-2.0</td>\n",
       "      <td>30</td>\n",
       "      <td>3</td>\n",
       "      <td>30</td>\n",
       "      <td>-4.848485</td>\n",
       "      <td>Benin</td>\n",
       "      <td>9.5000</td>\n",
       "      <td>2.25000</td>\n",
       "      <td>https://www.varmatin.com/faits-divers/qui-etai...</td>\n",
       "    </tr>\n",
       "    <tr>\n",
       "      <th>3</th>\n",
       "      <td>1117210338</td>\n",
       "      <td>2023-07-26</td>\n",
       "      <td>3.4</td>\n",
       "      <td>12</td>\n",
       "      <td>1</td>\n",
       "      <td>12</td>\n",
       "      <td>4.403409</td>\n",
       "      <td>Benin</td>\n",
       "      <td>9.5000</td>\n",
       "      <td>2.25000</td>\n",
       "      <td>https://www.prnewswire.com/news-releases/nexge...</td>\n",
       "    </tr>\n",
       "    <tr>\n",
       "      <th>4</th>\n",
       "      <td>1124580946</td>\n",
       "      <td>2023-09-03</td>\n",
       "      <td>3.4</td>\n",
       "      <td>12</td>\n",
       "      <td>2</td>\n",
       "      <td>12</td>\n",
       "      <td>2.535821</td>\n",
       "      <td>Benin</td>\n",
       "      <td>9.5000</td>\n",
       "      <td>2.25000</td>\n",
       "      <td>https://www.naijanews.com/2023/09/03/edo-obase...</td>\n",
       "    </tr>\n",
       "    <tr>\n",
       "      <th>5</th>\n",
       "      <td>1172759021</td>\n",
       "      <td>2024-04-29</td>\n",
       "      <td>0.0</td>\n",
       "      <td>14</td>\n",
       "      <td>2</td>\n",
       "      <td>14</td>\n",
       "      <td>3.384409</td>\n",
       "      <td>Nigeria</td>\n",
       "      <td>10.0000</td>\n",
       "      <td>8.00000</td>\n",
       "      <td>https://promptnewsonline.com/gov-obaseki-appro...</td>\n",
       "    </tr>\n",
       "    <tr>\n",
       "      <th>6</th>\n",
       "      <td>1061506981</td>\n",
       "      <td>2022-09-04</td>\n",
       "      <td>7.4</td>\n",
       "      <td>12</td>\n",
       "      <td>2</td>\n",
       "      <td>12</td>\n",
       "      <td>-0.966184</td>\n",
       "      <td>Benin</td>\n",
       "      <td>9.5000</td>\n",
       "      <td>2.25000</td>\n",
       "      <td>https://www.bignewsnetwork.com/news/272721277/...</td>\n",
       "    </tr>\n",
       "    <tr>\n",
       "      <th>7</th>\n",
       "      <td>1061507258</td>\n",
       "      <td>2022-09-04</td>\n",
       "      <td>0.0</td>\n",
       "      <td>12</td>\n",
       "      <td>2</td>\n",
       "      <td>12</td>\n",
       "      <td>-0.966184</td>\n",
       "      <td>Benin</td>\n",
       "      <td>9.5000</td>\n",
       "      <td>2.25000</td>\n",
       "      <td>https://www.bignewsnetwork.com/news/272721277/...</td>\n",
       "    </tr>\n",
       "    <tr>\n",
       "      <th>8</th>\n",
       "      <td>1068801089</td>\n",
       "      <td>2022-10-23</td>\n",
       "      <td>3.4</td>\n",
       "      <td>9</td>\n",
       "      <td>1</td>\n",
       "      <td>9</td>\n",
       "      <td>7.226107</td>\n",
       "      <td>Benin</td>\n",
       "      <td>9.5000</td>\n",
       "      <td>2.25000</td>\n",
       "      <td>http://nigerianobservernews.com/2022/10/confer...</td>\n",
       "    </tr>\n",
       "    <tr>\n",
       "      <th>9</th>\n",
       "      <td>1187563634</td>\n",
       "      <td>2024-07-17</td>\n",
       "      <td>2.8</td>\n",
       "      <td>16</td>\n",
       "      <td>1</td>\n",
       "      <td>16</td>\n",
       "      <td>-0.387597</td>\n",
       "      <td>Benin</td>\n",
       "      <td>9.5000</td>\n",
       "      <td>2.25000</td>\n",
       "      <td>http://malijet.com/actualite-sur-afrique/29291...</td>\n",
       "    </tr>\n",
       "  </tbody>\n",
       "</table>\n",
       "</div>"
      ],
      "text/plain": [
       "   GLOBALEVENTID     SQLDATE  GoldsteinScale  NumMentions  NumSources  \\\n",
       "0     1238864555  2025-04-19           -10.0           15           2   \n",
       "1     1239269408  2025-04-21           -10.0           16           2   \n",
       "2     1117208340  2023-07-26            -2.0           30           3   \n",
       "3     1117210338  2023-07-26             3.4           12           1   \n",
       "4     1124580946  2023-09-03             3.4           12           2   \n",
       "5     1172759021  2024-04-29             0.0           14           2   \n",
       "6     1061506981  2022-09-04             7.4           12           2   \n",
       "7     1061507258  2022-09-04             0.0           12           2   \n",
       "8     1068801089  2022-10-23             3.4            9           1   \n",
       "9     1187563634  2024-07-17             2.8           16           1   \n",
       "\n",
       "   NumArticles   AvgTone              ActionGeo_FullName  ActionGeo_Lat  \\\n",
       "0           15 -9.746639  Koudou, Benin (general), Benin        10.8945   \n",
       "1           16 -3.942652                           Benin         9.5000   \n",
       "2           30 -4.848485                           Benin         9.5000   \n",
       "3           12  4.403409                           Benin         9.5000   \n",
       "4           12  2.535821                           Benin         9.5000   \n",
       "5           14  3.384409                         Nigeria        10.0000   \n",
       "6           12 -0.966184                           Benin         9.5000   \n",
       "7           12 -0.966184                           Benin         9.5000   \n",
       "8            9  7.226107                           Benin         9.5000   \n",
       "9           16 -0.387597                           Benin         9.5000   \n",
       "\n",
       "   ActionGeo_Long                                          SOURCEURL  \n",
       "0         1.16328  https://guardian.ng/news/suspected-jihadists-k...  \n",
       "1         2.25000  https://www.aljazeera.net/news/2025/4/21/%D8%A...  \n",
       "2         2.25000  https://www.varmatin.com/faits-divers/qui-etai...  \n",
       "3         2.25000  https://www.prnewswire.com/news-releases/nexge...  \n",
       "4         2.25000  https://www.naijanews.com/2023/09/03/edo-obase...  \n",
       "5         8.00000  https://promptnewsonline.com/gov-obaseki-appro...  \n",
       "6         2.25000  https://www.bignewsnetwork.com/news/272721277/...  \n",
       "7         2.25000  https://www.bignewsnetwork.com/news/272721277/...  \n",
       "8         2.25000  http://nigerianobservernews.com/2022/10/confer...  \n",
       "9         2.25000  http://malijet.com/actualite-sur-afrique/29291...  "
      ]
     },
     "metadata": {},
     "output_type": "display_data"
    },
    {
     "name": "stdout",
     "output_type": "stream",
     "text": [
      "\n",
      " Prévisualisation de la table 'mentions' :\n"
     ]
    },
    {
     "data": {
      "application/vnd.microsoft.datawrangler.viewer.v0+json": {
       "columns": [
        {
         "name": "index",
         "rawType": "int64",
         "type": "integer"
        },
        {
         "name": "GLOBALEVENTID",
         "rawType": "int64",
         "type": "integer"
        },
        {
         "name": "MentionTimeDate",
         "rawType": "object",
         "type": "string"
        },
        {
         "name": "MentionType",
         "rawType": "int64",
         "type": "integer"
        },
        {
         "name": "MentionSourceName",
         "rawType": "object",
         "type": "string"
        },
        {
         "name": "MentionIdentifier",
         "rawType": "object",
         "type": "string"
        },
        {
         "name": "ActionCharOffset",
         "rawType": "int64",
         "type": "integer"
        },
        {
         "name": "Confidence",
         "rawType": "int64",
         "type": "integer"
        },
        {
         "name": "MentionDocTone",
         "rawType": "float64",
         "type": "float"
        }
       ],
       "conversionMethod": "pd.DataFrame",
       "ref": "1361c1ce-891a-4516-9795-46f44797e620",
       "rows": [
        [
         "0",
         "1080064261",
         "2023-01-13 20:00:00",
         "1",
         "bbc.com",
         "https://www.bbc.com/news/av/world-africa-64269446",
         "71",
         "90",
         "6.38297872340425"
        ],
        [
         "1",
         "1176169626",
         "2024-05-16 18:45:00",
         "1",
         "tribuneonlineng.com",
         "https://tribuneonlineng.com/edo-2024-inec-to-begin-distribution-of-373030-uncollected-pvcs/",
         "417",
         "90",
         "1.1764705882353"
        ],
        [
         "2",
         "1001321613",
         "2021-08-27 21:15:00",
         "1",
         "ahram.org.eg",
         "https://english.ahram.org.eg/NewsContent/1/64/421939/Egypt/Politics-/Egypts-economy-is-capable-of-facing-challenges,-me.aspx",
         "367",
         "90",
         "1.92307692307692"
        ],
        [
         "3",
         "1080210460",
         "2023-01-15 14:30:00",
         "1",
         "english.news.cn",
         "https://english.news.cn/20230115/8600befffbc44f42aba9acbe83d90051/c.html",
         "391",
         "90",
         "7.57281553398058"
        ],
        [
         "4",
         "1080210533",
         "2023-01-15 14:30:00",
         "1",
         "english.news.cn",
         "https://english.news.cn/20230115/8600befffbc44f42aba9acbe83d90051/c.html",
         "391",
         "90",
         "7.57281553398058"
        ],
        [
         "5",
         "1080214582",
         "2023-01-15 01:15:00",
         "1",
         "china.org.cn",
         "http://french.china.org.cn/foreign/txt/2023-01/15/content_85060197.htm",
         "1533",
         "90",
         "1.33333333333333"
        ],
        [
         "6",
         "1080214730",
         "2023-01-15 01:15:00",
         "1",
         "china.org.cn",
         "http://french.china.org.cn/foreign/txt/2023-01/15/content_85060197.htm",
         "1533",
         "90",
         "1.33333333333333"
        ],
        [
         "7",
         "1080214582",
         "2023-01-15 01:15:00",
         "1",
         "china.org.cn",
         "http://french.china.org.cn/foreign/txt/2023-01/15/content_85060208.htm",
         "178",
         "90",
         "-0.89552238805971"
        ],
        [
         "8",
         "1080214730",
         "2023-01-15 01:15:00",
         "1",
         "china.org.cn",
         "http://french.china.org.cn/foreign/txt/2023-01/15/content_85060208.htm",
         "178",
         "90",
         "-0.89552238805971"
        ],
        [
         "9",
         "1176686597",
         "2024-05-19 20:30:00",
         "1",
         "nigerianobservernews.com",
         "https://nigerianobservernews.com/2024/05/obaseki-mourns-prof-mrs-eregie-former-health-commissioner/",
         "1013",
         "90",
         "2.74914089347079"
        ]
       ],
       "shape": {
        "columns": 8,
        "rows": 10
       }
      },
      "text/html": [
       "<div>\n",
       "<style scoped>\n",
       "    .dataframe tbody tr th:only-of-type {\n",
       "        vertical-align: middle;\n",
       "    }\n",
       "\n",
       "    .dataframe tbody tr th {\n",
       "        vertical-align: top;\n",
       "    }\n",
       "\n",
       "    .dataframe thead th {\n",
       "        text-align: right;\n",
       "    }\n",
       "</style>\n",
       "<table border=\"1\" class=\"dataframe\">\n",
       "  <thead>\n",
       "    <tr style=\"text-align: right;\">\n",
       "      <th></th>\n",
       "      <th>GLOBALEVENTID</th>\n",
       "      <th>MentionTimeDate</th>\n",
       "      <th>MentionType</th>\n",
       "      <th>MentionSourceName</th>\n",
       "      <th>MentionIdentifier</th>\n",
       "      <th>ActionCharOffset</th>\n",
       "      <th>Confidence</th>\n",
       "      <th>MentionDocTone</th>\n",
       "    </tr>\n",
       "  </thead>\n",
       "  <tbody>\n",
       "    <tr>\n",
       "      <th>0</th>\n",
       "      <td>1080064261</td>\n",
       "      <td>2023-01-13 20:00:00</td>\n",
       "      <td>1</td>\n",
       "      <td>bbc.com</td>\n",
       "      <td>https://www.bbc.com/news/av/world-africa-64269446</td>\n",
       "      <td>71</td>\n",
       "      <td>90</td>\n",
       "      <td>6.382979</td>\n",
       "    </tr>\n",
       "    <tr>\n",
       "      <th>1</th>\n",
       "      <td>1176169626</td>\n",
       "      <td>2024-05-16 18:45:00</td>\n",
       "      <td>1</td>\n",
       "      <td>tribuneonlineng.com</td>\n",
       "      <td>https://tribuneonlineng.com/edo-2024-inec-to-b...</td>\n",
       "      <td>417</td>\n",
       "      <td>90</td>\n",
       "      <td>1.176471</td>\n",
       "    </tr>\n",
       "    <tr>\n",
       "      <th>2</th>\n",
       "      <td>1001321613</td>\n",
       "      <td>2021-08-27 21:15:00</td>\n",
       "      <td>1</td>\n",
       "      <td>ahram.org.eg</td>\n",
       "      <td>https://english.ahram.org.eg/NewsContent/1/64/...</td>\n",
       "      <td>367</td>\n",
       "      <td>90</td>\n",
       "      <td>1.923077</td>\n",
       "    </tr>\n",
       "    <tr>\n",
       "      <th>3</th>\n",
       "      <td>1080210460</td>\n",
       "      <td>2023-01-15 14:30:00</td>\n",
       "      <td>1</td>\n",
       "      <td>english.news.cn</td>\n",
       "      <td>https://english.news.cn/20230115/8600befffbc44...</td>\n",
       "      <td>391</td>\n",
       "      <td>90</td>\n",
       "      <td>7.572816</td>\n",
       "    </tr>\n",
       "    <tr>\n",
       "      <th>4</th>\n",
       "      <td>1080210533</td>\n",
       "      <td>2023-01-15 14:30:00</td>\n",
       "      <td>1</td>\n",
       "      <td>english.news.cn</td>\n",
       "      <td>https://english.news.cn/20230115/8600befffbc44...</td>\n",
       "      <td>391</td>\n",
       "      <td>90</td>\n",
       "      <td>7.572816</td>\n",
       "    </tr>\n",
       "    <tr>\n",
       "      <th>5</th>\n",
       "      <td>1080214582</td>\n",
       "      <td>2023-01-15 01:15:00</td>\n",
       "      <td>1</td>\n",
       "      <td>china.org.cn</td>\n",
       "      <td>http://french.china.org.cn/foreign/txt/2023-01...</td>\n",
       "      <td>1533</td>\n",
       "      <td>90</td>\n",
       "      <td>1.333333</td>\n",
       "    </tr>\n",
       "    <tr>\n",
       "      <th>6</th>\n",
       "      <td>1080214730</td>\n",
       "      <td>2023-01-15 01:15:00</td>\n",
       "      <td>1</td>\n",
       "      <td>china.org.cn</td>\n",
       "      <td>http://french.china.org.cn/foreign/txt/2023-01...</td>\n",
       "      <td>1533</td>\n",
       "      <td>90</td>\n",
       "      <td>1.333333</td>\n",
       "    </tr>\n",
       "    <tr>\n",
       "      <th>7</th>\n",
       "      <td>1080214582</td>\n",
       "      <td>2023-01-15 01:15:00</td>\n",
       "      <td>1</td>\n",
       "      <td>china.org.cn</td>\n",
       "      <td>http://french.china.org.cn/foreign/txt/2023-01...</td>\n",
       "      <td>178</td>\n",
       "      <td>90</td>\n",
       "      <td>-0.895522</td>\n",
       "    </tr>\n",
       "    <tr>\n",
       "      <th>8</th>\n",
       "      <td>1080214730</td>\n",
       "      <td>2023-01-15 01:15:00</td>\n",
       "      <td>1</td>\n",
       "      <td>china.org.cn</td>\n",
       "      <td>http://french.china.org.cn/foreign/txt/2023-01...</td>\n",
       "      <td>178</td>\n",
       "      <td>90</td>\n",
       "      <td>-0.895522</td>\n",
       "    </tr>\n",
       "    <tr>\n",
       "      <th>9</th>\n",
       "      <td>1176686597</td>\n",
       "      <td>2024-05-19 20:30:00</td>\n",
       "      <td>1</td>\n",
       "      <td>nigerianobservernews.com</td>\n",
       "      <td>https://nigerianobservernews.com/2024/05/obase...</td>\n",
       "      <td>1013</td>\n",
       "      <td>90</td>\n",
       "      <td>2.749141</td>\n",
       "    </tr>\n",
       "  </tbody>\n",
       "</table>\n",
       "</div>"
      ],
      "text/plain": [
       "   GLOBALEVENTID      MentionTimeDate  MentionType         MentionSourceName  \\\n",
       "0     1080064261  2023-01-13 20:00:00            1                   bbc.com   \n",
       "1     1176169626  2024-05-16 18:45:00            1       tribuneonlineng.com   \n",
       "2     1001321613  2021-08-27 21:15:00            1              ahram.org.eg   \n",
       "3     1080210460  2023-01-15 14:30:00            1           english.news.cn   \n",
       "4     1080210533  2023-01-15 14:30:00            1           english.news.cn   \n",
       "5     1080214582  2023-01-15 01:15:00            1              china.org.cn   \n",
       "6     1080214730  2023-01-15 01:15:00            1              china.org.cn   \n",
       "7     1080214582  2023-01-15 01:15:00            1              china.org.cn   \n",
       "8     1080214730  2023-01-15 01:15:00            1              china.org.cn   \n",
       "9     1176686597  2024-05-19 20:30:00            1  nigerianobservernews.com   \n",
       "\n",
       "                                   MentionIdentifier  ActionCharOffset  \\\n",
       "0  https://www.bbc.com/news/av/world-africa-64269446                71   \n",
       "1  https://tribuneonlineng.com/edo-2024-inec-to-b...               417   \n",
       "2  https://english.ahram.org.eg/NewsContent/1/64/...               367   \n",
       "3  https://english.news.cn/20230115/8600befffbc44...               391   \n",
       "4  https://english.news.cn/20230115/8600befffbc44...               391   \n",
       "5  http://french.china.org.cn/foreign/txt/2023-01...              1533   \n",
       "6  http://french.china.org.cn/foreign/txt/2023-01...              1533   \n",
       "7  http://french.china.org.cn/foreign/txt/2023-01...               178   \n",
       "8  http://french.china.org.cn/foreign/txt/2023-01...               178   \n",
       "9  https://nigerianobservernews.com/2024/05/obase...              1013   \n",
       "\n",
       "   Confidence  MentionDocTone  \n",
       "0          90        6.382979  \n",
       "1          90        1.176471  \n",
       "2          90        1.923077  \n",
       "3          90        7.572816  \n",
       "4          90        7.572816  \n",
       "5          90        1.333333  \n",
       "6          90        1.333333  \n",
       "7          90       -0.895522  \n",
       "8          90       -0.895522  \n",
       "9          90        2.749141  "
      ]
     },
     "metadata": {},
     "output_type": "display_data"
    },
    {
     "name": "stdout",
     "output_type": "stream",
     "text": [
      "\n",
      " Connexion à la base fermée.\n"
     ]
    }
   ],
   "source": [
    "\n",
    "from contextlib import contextmanager\n",
    "\n",
    "# Vérification de l'existence de la base de données\n",
    "if not os.path.exists(db_path):\n",
    "    print(f\" Fichier introuvable : {db_path}\")\n",
    "else:\n",
    "    # Gestion de la connexion avec context manager\n",
    "    try:\n",
    "        with sqlite3.connect(db_path) as conn:\n",
    "            print(f\" Connexion réussie à : {db_path}\")\n",
    "\n",
    "            # Liste les tables de la base de données\n",
    "            try:\n",
    "                tables_query = \"SELECT name FROM sqlite_master WHERE type='table';\"\n",
    "                tables_df = pd.read_sql_query(tables_query, conn)\n",
    "                print(\" Tables disponibles :\")\n",
    "                display(tables_df)\n",
    "            except Exception as e:\n",
    "                print(f\" Erreur en listant les tables : {e}\")\n",
    "\n",
    "            # Prévisualisation de la table 'events'\n",
    "            try:\n",
    "                print(\"\\n Prévisualisation de la table 'events' (10 premières lignes) :\")\n",
    "                events_df = pd.read_sql_query(\"SELECT * FROM events LIMIT 10;\", conn)\n",
    "                display(events_df)\n",
    "            except Exception as e:\n",
    "                print(f\" Erreur lors de la lecture de la table 'events' : {e}\")\n",
    "\n",
    "            # Prévisualisation de la table 'mentions'\n",
    "            try:\n",
    "                print(\"\\n Prévisualisation de la table 'mentions' :\")\n",
    "                mentions_df = pd.read_sql_query(\"SELECT * FROM mentions LIMIT 10;\", conn)\n",
    "                display(mentions_df)\n",
    "            except Exception as e:\n",
    "                print(f\" Erreur lors de la lecture de la table 'mentions' : {e}\")\n",
    "\n",
    "    except sqlite3.Error as e:\n",
    "        print(f\" Erreur de connexion : {e}\")\n",
    "    finally:\n",
    "        print(\"\\n Connexion à la base fermée.\")"
   ]
  }
 ],
 "metadata": {
  "kernelspec": {
   "display_name": "Python 3",
   "language": "python",
   "name": "python3"
  },
  "language_info": {
   "codemirror_mode": {
    "name": "ipython",
    "version": 3
   },
   "file_extension": ".py",
   "mimetype": "text/x-python",
   "name": "python",
   "nbconvert_exporter": "python",
   "pygments_lexer": "ipython3",
   "version": "3.10.12"
  }
 },
 "nbformat": 4,
 "nbformat_minor": 5
}
